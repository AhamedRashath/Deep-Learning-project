{
 "cells": [
  {
   "cell_type": "markdown",
   "id": "accompanied-strap",
   "metadata": {
    "id": "accompanied-strap",
    "papermill": {
     "duration": 0.032649,
     "end_time": "2021-06-08T18:57:35.292116",
     "exception": false,
     "start_time": "2021-06-08T18:57:35.259467",
     "status": "completed"
    },
    "tags": []
   },
   "source": [
    "# Fashion-MNIST Image Classification using Deep Learning\n",
    "### Fashion-MNIST consists of 60,000 training images and 10,000 test images. It is a MNIST-like fashion product database. The developers believe MNIST has been overused so they created this as a direct replacement for that dataset. Each image is in greyscale and associated with a label from 10 classes.\n",
    "\n",
    "### Each image is 28 pixels in height and 28 pixels in width, for a total of 784 pixels in total.\n",
    "\n",
    "### Each pixel has a single pixel-value associated with it, indicating the lightness or darkness of that pixel, with higher numbers meaning darker. This pixel-value is an integer between 0 and 255."
   ]
  },
  {
   "cell_type": "markdown",
   "id": "compound-floor",
   "metadata": {
    "id": "compound-floor",
    "papermill": {
     "duration": 0.031137,
     "end_time": "2021-06-08T18:57:35.354584",
     "exception": false,
     "start_time": "2021-06-08T18:57:35.323447",
     "status": "completed"
    },
    "tags": []
   },
   "source": [
    "![c60ceb17.png?raw=true](https://github.com/zalandoresearch/fashion-mnist/blob/master/doc/img/c60ceb17.png?raw=true)"
   ]
  },
  {
   "cell_type": "code",
   "execution_count": 1,
   "id": "processed-height",
   "metadata": {
    "_kg_hide-input": true,
    "_kg_hide-output": true,
    "execution": {
     "iopub.execute_input": "2021-06-08T18:57:35.422546Z",
     "iopub.status.busy": "2021-06-08T18:57:35.421086Z",
     "iopub.status.idle": "2021-06-08T18:57:35.435873Z",
     "shell.execute_reply": "2021-06-08T18:57:35.436278Z",
     "shell.execute_reply.started": "2021-06-08T18:56:09.106194Z"
    },
    "id": "processed-height",
    "papermill": {
     "duration": 0.050466,
     "end_time": "2021-06-08T18:57:35.436475",
     "exception": false,
     "start_time": "2021-06-08T18:57:35.386009",
     "status": "completed"
    },
    "tags": []
   },
   "outputs": [],
   "source": [
    "import os\n",
    "for dirname, _, filenames in os.walk('/kaggle/input'):\n",
    "    for filename in filenames:\n",
    "        print(os.path.join(dirname, filename))"
   ]
  },
  {
   "cell_type": "markdown",
   "id": "liked-bhutan",
   "metadata": {
    "id": "liked-bhutan",
    "papermill": {
     "duration": 0.031838,
     "end_time": "2021-06-08T18:57:35.500610",
     "exception": false,
     "start_time": "2021-06-08T18:57:35.468772",
     "status": "completed"
    },
    "tags": []
   },
   "source": [
    "# Importing Libraries"
   ]
  },
  {
   "cell_type": "code",
   "execution_count": 2,
   "id": "norman-faculty",
   "metadata": {
    "execution": {
     "iopub.execute_input": "2021-06-08T18:57:35.568176Z",
     "iopub.status.busy": "2021-06-08T18:57:35.567660Z",
     "iopub.status.idle": "2021-06-08T18:57:41.895598Z",
     "shell.execute_reply": "2021-06-08T18:57:41.895133Z",
     "shell.execute_reply.started": "2021-06-08T18:56:09.125305Z"
    },
    "id": "norman-faculty",
    "papermill": {
     "duration": 6.362884,
     "end_time": "2021-06-08T18:57:41.895729",
     "exception": false,
     "start_time": "2021-06-08T18:57:35.532845",
     "status": "completed"
    },
    "tags": []
   },
   "outputs": [],
   "source": [
    "import numpy as np\n",
    "import pandas as pd\n",
    "import matplotlib.pyplot as plt\n",
    "import seaborn as sns\n",
    "import keras\n",
    "import tensorflow\n"
   ]
  },
  {
   "cell_type": "markdown",
   "id": "sunset-colors",
   "metadata": {
    "id": "sunset-colors",
    "papermill": {
     "duration": 0.031846,
     "end_time": "2021-06-08T18:57:41.959982",
     "exception": false,
     "start_time": "2021-06-08T18:57:41.928136",
     "status": "completed"
    },
    "tags": []
   },
   "source": [
    "# Loading Data\n",
    "### There are 10 different classes of images, as following:\n",
    "\n",
    "### 0: T-shirt/top\n",
    "\n",
    "### 1: Trouser\n",
    "\n",
    "### 2: Pullover\n",
    "\n",
    "### 3: Dress\n",
    "\n",
    "### 4: Coat\n",
    "\n",
    "### 5: Sandal\n",
    "\n",
    "### 6: Shirt\n",
    "\n",
    "### 7: Sneakers\n",
    "\n",
    "### 8: Bag\n",
    "\n",
    "### 9: Ankle boot\n",
    "\n",
    "### Image dimmensions are 28x28."
   ]
  },
  {
   "cell_type": "markdown",
   "id": "aquatic-despite",
   "metadata": {
    "id": "aquatic-despite",
    "papermill": {
     "duration": 0.031354,
     "end_time": "2021-06-08T18:57:42.022953",
     "exception": false,
     "start_time": "2021-06-08T18:57:41.991599",
     "status": "completed"
    },
    "tags": []
   },
   "source": [
    "## Spliting the Data into train and test set"
   ]
  },
  {
   "cell_type": "code",
   "execution_count": 3,
   "id": "computational-brown",
   "metadata": {
    "colab": {
     "base_uri": "https://localhost:8080/"
    },
    "execution": {
     "iopub.execute_input": "2021-06-08T18:57:42.091145Z",
     "iopub.status.busy": "2021-06-08T18:57:42.090590Z",
     "iopub.status.idle": "2021-06-08T18:57:43.376529Z",
     "shell.execute_reply": "2021-06-08T18:57:43.376061Z",
     "shell.execute_reply.started": "2021-06-08T18:56:15.394199Z"
    },
    "id": "computational-brown",
    "outputId": "79ad4541-d9c4-4d6b-8866-f77d317b8f43",
    "papermill": {
     "duration": 1.322015,
     "end_time": "2021-06-08T18:57:43.376668",
     "exception": false,
     "start_time": "2021-06-08T18:57:42.054653",
     "status": "completed"
    },
    "tags": []
   },
   "outputs": [
    {
     "name": "stdout",
     "output_type": "stream",
     "text": [
      "Downloading data from https://storage.googleapis.com/tensorflow/tf-keras-datasets/train-labels-idx1-ubyte.gz\n",
      "29515/29515 [==============================] - 0s 1us/step\n",
      "Downloading data from https://storage.googleapis.com/tensorflow/tf-keras-datasets/train-images-idx3-ubyte.gz\n",
      "26421880/26421880 [==============================] - 6s 0us/step\n",
      "Downloading data from https://storage.googleapis.com/tensorflow/tf-keras-datasets/t10k-labels-idx1-ubyte.gz\n",
      "5148/5148 [==============================] - 0s 0s/step\n",
      "Downloading data from https://storage.googleapis.com/tensorflow/tf-keras-datasets/t10k-images-idx3-ubyte.gz\n",
      "4422102/4422102 [==============================] - 1s 0us/step\n"
     ]
    }
   ],
   "source": [
    "(X_train, y_train), (X_test, y_test)= keras.datasets.fashion_mnist.load_data()"
   ]
  },
  {
   "cell_type": "code",
   "execution_count": 4,
   "id": "comparable-hamilton",
   "metadata": {
    "colab": {
     "base_uri": "https://localhost:8080/"
    },
    "execution": {
     "iopub.execute_input": "2021-06-08T18:57:43.452667Z",
     "iopub.status.busy": "2021-06-08T18:57:43.451991Z",
     "iopub.status.idle": "2021-06-08T18:57:43.455044Z",
     "shell.execute_reply": "2021-06-08T18:57:43.455446Z",
     "shell.execute_reply.started": "2021-06-08T18:56:17.120057Z"
    },
    "id": "comparable-hamilton",
    "outputId": "e608d8fd-63f0-41f7-a6b1-2460fa4dfeb7",
    "papermill": {
     "duration": 0.043848,
     "end_time": "2021-06-08T18:57:43.455569",
     "exception": false,
     "start_time": "2021-06-08T18:57:43.411721",
     "status": "completed"
    },
    "tags": []
   },
   "outputs": [
    {
     "data": {
      "text/plain": [
       "((60000, 28, 28), (60000,))"
      ]
     },
     "execution_count": 4,
     "metadata": {},
     "output_type": "execute_result"
    }
   ],
   "source": [
    "X_train.shape , y_train.shape"
   ]
  },
  {
   "cell_type": "code",
   "execution_count": 5,
   "id": "particular-metropolitan",
   "metadata": {
    "colab": {
     "base_uri": "https://localhost:8080/"
    },
    "execution": {
     "iopub.execute_input": "2021-06-08T18:57:43.529894Z",
     "iopub.status.busy": "2021-06-08T18:57:43.529169Z",
     "iopub.status.idle": "2021-06-08T18:57:43.532673Z",
     "shell.execute_reply": "2021-06-08T18:57:43.532294Z",
     "shell.execute_reply.started": "2021-06-08T18:56:17.137453Z"
    },
    "id": "particular-metropolitan",
    "outputId": "7e5ba627-cbdc-4518-a76b-5e45f6899097",
    "papermill": {
     "duration": 0.042287,
     "end_time": "2021-06-08T18:57:43.532776",
     "exception": false,
     "start_time": "2021-06-08T18:57:43.490489",
     "status": "completed"
    },
    "tags": []
   },
   "outputs": [
    {
     "data": {
      "text/plain": [
       "((10000, 28, 28), (10000,))"
      ]
     },
     "execution_count": 5,
     "metadata": {},
     "output_type": "execute_result"
    }
   ],
   "source": [
    "X_test.shape , y_test.shape"
   ]
  },
  {
   "cell_type": "code",
   "execution_count": 6,
   "id": "mediterranean-asset",
   "metadata": {
    "_kg_hide-output": true,
    "colab": {
     "base_uri": "https://localhost:8080/"
    },
    "execution": {
     "iopub.execute_input": "2021-06-08T18:57:43.608054Z",
     "iopub.status.busy": "2021-06-08T18:57:43.607352Z",
     "iopub.status.idle": "2021-06-08T18:57:43.610675Z",
     "shell.execute_reply": "2021-06-08T18:57:43.610297Z",
     "shell.execute_reply.started": "2021-06-08T18:56:17.149137Z"
    },
    "id": "mediterranean-asset",
    "outputId": "18b856ec-3181-4b90-cdda-fb3d9c89169c",
    "papermill": {
     "duration": 0.043022,
     "end_time": "2021-06-08T18:57:43.610774",
     "exception": false,
     "start_time": "2021-06-08T18:57:43.567752",
     "status": "completed"
    },
    "tags": []
   },
   "outputs": [
    {
     "data": {
      "text/plain": [
       "array([[[0, 0, 0, ..., 0, 0, 0],\n",
       "        [0, 0, 0, ..., 0, 0, 0],\n",
       "        [0, 0, 0, ..., 0, 0, 0],\n",
       "        ...,\n",
       "        [0, 0, 0, ..., 0, 0, 0],\n",
       "        [0, 0, 0, ..., 0, 0, 0],\n",
       "        [0, 0, 0, ..., 0, 0, 0]],\n",
       "\n",
       "       [[0, 0, 0, ..., 0, 0, 0],\n",
       "        [0, 0, 0, ..., 0, 0, 0],\n",
       "        [0, 0, 0, ..., 0, 0, 0],\n",
       "        ...,\n",
       "        [0, 0, 0, ..., 0, 0, 0],\n",
       "        [0, 0, 0, ..., 0, 0, 0],\n",
       "        [0, 0, 0, ..., 0, 0, 0]],\n",
       "\n",
       "       [[0, 0, 0, ..., 0, 0, 0],\n",
       "        [0, 0, 0, ..., 0, 0, 0],\n",
       "        [0, 0, 0, ..., 0, 0, 0],\n",
       "        ...,\n",
       "        [0, 0, 0, ..., 0, 0, 0],\n",
       "        [0, 0, 0, ..., 0, 0, 0],\n",
       "        [0, 0, 0, ..., 0, 0, 0]],\n",
       "\n",
       "       ...,\n",
       "\n",
       "       [[0, 0, 0, ..., 0, 0, 0],\n",
       "        [0, 0, 0, ..., 0, 0, 0],\n",
       "        [0, 0, 0, ..., 0, 0, 0],\n",
       "        ...,\n",
       "        [0, 0, 0, ..., 0, 0, 0],\n",
       "        [0, 0, 0, ..., 0, 0, 0],\n",
       "        [0, 0, 0, ..., 0, 0, 0]],\n",
       "\n",
       "       [[0, 0, 0, ..., 0, 0, 0],\n",
       "        [0, 0, 0, ..., 0, 0, 0],\n",
       "        [0, 0, 0, ..., 0, 0, 0],\n",
       "        ...,\n",
       "        [0, 0, 0, ..., 0, 0, 0],\n",
       "        [0, 0, 0, ..., 0, 0, 0],\n",
       "        [0, 0, 0, ..., 0, 0, 0]],\n",
       "\n",
       "       [[0, 0, 0, ..., 0, 0, 0],\n",
       "        [0, 0, 0, ..., 0, 0, 0],\n",
       "        [0, 0, 0, ..., 0, 0, 0],\n",
       "        ...,\n",
       "        [0, 0, 0, ..., 0, 0, 0],\n",
       "        [0, 0, 0, ..., 0, 0, 0],\n",
       "        [0, 0, 0, ..., 0, 0, 0]]], dtype=uint8)"
      ]
     },
     "execution_count": 6,
     "metadata": {},
     "output_type": "execute_result"
    }
   ],
   "source": [
    "X_train"
   ]
  },
  {
   "cell_type": "code",
   "execution_count": 7,
   "id": "statutory-partnership",
   "metadata": {
    "_kg_hide-output": true,
    "colab": {
     "base_uri": "https://localhost:8080/"
    },
    "execution": {
     "iopub.execute_input": "2021-06-08T18:57:43.688292Z",
     "iopub.status.busy": "2021-06-08T18:57:43.687535Z",
     "iopub.status.idle": "2021-06-08T18:57:43.691112Z",
     "shell.execute_reply": "2021-06-08T18:57:43.690538Z",
     "shell.execute_reply.started": "2021-06-08T18:56:17.164332Z"
    },
    "id": "statutory-partnership",
    "outputId": "75b250d9-97c2-4a41-d827-dbef67171918",
    "papermill": {
     "duration": 0.045143,
     "end_time": "2021-06-08T18:57:43.691212",
     "exception": false,
     "start_time": "2021-06-08T18:57:43.646069",
     "status": "completed"
    },
    "tags": []
   },
   "outputs": [
    {
     "data": {
      "text/plain": [
       "array([[  0,   0,   0,   0,   0,   0,   0,   0,   0,   0,   0,   0,   0,\n",
       "          0,   0,   0,   0,   0,   0,   0,   0,   0,   0,   0,   0,   0,\n",
       "          0,   0],\n",
       "       [  0,   0,   0,   0,   0,   0,   0,   0,   0,   0,   0,   0,   0,\n",
       "          0,   0,   0,   0,   0,   0,   0,   0,   0,   0,   0,   0,   0,\n",
       "          0,   0],\n",
       "       [  0,   0,   0,   0,   0,   0,   0,   0,   0,   0,   0,   0,   0,\n",
       "          0,   0,   0,   0,   0,   0,   0,   0,   0,   0,   0,   0,   0,\n",
       "          0,   0],\n",
       "       [  0,   0,   0,   0,   0,   0,   0,   0,   0,   0,   0,   0,   1,\n",
       "          0,   0,  13,  73,   0,   0,   1,   4,   0,   0,   0,   0,   1,\n",
       "          1,   0],\n",
       "       [  0,   0,   0,   0,   0,   0,   0,   0,   0,   0,   0,   0,   3,\n",
       "          0,  36, 136, 127,  62,  54,   0,   0,   0,   1,   3,   4,   0,\n",
       "          0,   3],\n",
       "       [  0,   0,   0,   0,   0,   0,   0,   0,   0,   0,   0,   0,   6,\n",
       "          0, 102, 204, 176, 134, 144, 123,  23,   0,   0,   0,   0,  12,\n",
       "         10,   0],\n",
       "       [  0,   0,   0,   0,   0,   0,   0,   0,   0,   0,   0,   0,   0,\n",
       "          0, 155, 236, 207, 178, 107, 156, 161, 109,  64,  23,  77, 130,\n",
       "         72,  15],\n",
       "       [  0,   0,   0,   0,   0,   0,   0,   0,   0,   0,   0,   1,   0,\n",
       "         69, 207, 223, 218, 216, 216, 163, 127, 121, 122, 146, 141,  88,\n",
       "        172,  66],\n",
       "       [  0,   0,   0,   0,   0,   0,   0,   0,   0,   1,   1,   1,   0,\n",
       "        200, 232, 232, 233, 229, 223, 223, 215, 213, 164, 127, 123, 196,\n",
       "        229,   0],\n",
       "       [  0,   0,   0,   0,   0,   0,   0,   0,   0,   0,   0,   0,   0,\n",
       "        183, 225, 216, 223, 228, 235, 227, 224, 222, 224, 221, 223, 245,\n",
       "        173,   0],\n",
       "       [  0,   0,   0,   0,   0,   0,   0,   0,   0,   0,   0,   0,   0,\n",
       "        193, 228, 218, 213, 198, 180, 212, 210, 211, 213, 223, 220, 243,\n",
       "        202,   0],\n",
       "       [  0,   0,   0,   0,   0,   0,   0,   0,   0,   1,   3,   0,  12,\n",
       "        219, 220, 212, 218, 192, 169, 227, 208, 218, 224, 212, 226, 197,\n",
       "        209,  52],\n",
       "       [  0,   0,   0,   0,   0,   0,   0,   0,   0,   0,   6,   0,  99,\n",
       "        244, 222, 220, 218, 203, 198, 221, 215, 213, 222, 220, 245, 119,\n",
       "        167,  56],\n",
       "       [  0,   0,   0,   0,   0,   0,   0,   0,   0,   4,   0,   0,  55,\n",
       "        236, 228, 230, 228, 240, 232, 213, 218, 223, 234, 217, 217, 209,\n",
       "         92,   0],\n",
       "       [  0,   0,   1,   4,   6,   7,   2,   0,   0,   0,   0,   0, 237,\n",
       "        226, 217, 223, 222, 219, 222, 221, 216, 223, 229, 215, 218, 255,\n",
       "         77,   0],\n",
       "       [  0,   3,   0,   0,   0,   0,   0,   0,   0,  62, 145, 204, 228,\n",
       "        207, 213, 221, 218, 208, 211, 218, 224, 223, 219, 215, 224, 244,\n",
       "        159,   0],\n",
       "       [  0,   0,   0,   0,  18,  44,  82, 107, 189, 228, 220, 222, 217,\n",
       "        226, 200, 205, 211, 230, 224, 234, 176, 188, 250, 248, 233, 238,\n",
       "        215,   0],\n",
       "       [  0,  57, 187, 208, 224, 221, 224, 208, 204, 214, 208, 209, 200,\n",
       "        159, 245, 193, 206, 223, 255, 255, 221, 234, 221, 211, 220, 232,\n",
       "        246,   0],\n",
       "       [  3, 202, 228, 224, 221, 211, 211, 214, 205, 205, 205, 220, 240,\n",
       "         80, 150, 255, 229, 221, 188, 154, 191, 210, 204, 209, 222, 228,\n",
       "        225,   0],\n",
       "       [ 98, 233, 198, 210, 222, 229, 229, 234, 249, 220, 194, 215, 217,\n",
       "        241,  65,  73, 106, 117, 168, 219, 221, 215, 217, 223, 223, 224,\n",
       "        229,  29],\n",
       "       [ 75, 204, 212, 204, 193, 205, 211, 225, 216, 185, 197, 206, 198,\n",
       "        213, 240, 195, 227, 245, 239, 223, 218, 212, 209, 222, 220, 221,\n",
       "        230,  67],\n",
       "       [ 48, 203, 183, 194, 213, 197, 185, 190, 194, 192, 202, 214, 219,\n",
       "        221, 220, 236, 225, 216, 199, 206, 186, 181, 177, 172, 181, 205,\n",
       "        206, 115],\n",
       "       [  0, 122, 219, 193, 179, 171, 183, 196, 204, 210, 213, 207, 211,\n",
       "        210, 200, 196, 194, 191, 195, 191, 198, 192, 176, 156, 167, 177,\n",
       "        210,  92],\n",
       "       [  0,   0,  74, 189, 212, 191, 175, 172, 175, 181, 185, 188, 189,\n",
       "        188, 193, 198, 204, 209, 210, 210, 211, 188, 188, 194, 192, 216,\n",
       "        170,   0],\n",
       "       [  2,   0,   0,   0,  66, 200, 222, 237, 239, 242, 246, 243, 244,\n",
       "        221, 220, 193, 191, 179, 182, 182, 181, 176, 166, 168,  99,  58,\n",
       "          0,   0],\n",
       "       [  0,   0,   0,   0,   0,   0,   0,  40,  61,  44,  72,  41,  35,\n",
       "          0,   0,   0,   0,   0,   0,   0,   0,   0,   0,   0,   0,   0,\n",
       "          0,   0],\n",
       "       [  0,   0,   0,   0,   0,   0,   0,   0,   0,   0,   0,   0,   0,\n",
       "          0,   0,   0,   0,   0,   0,   0,   0,   0,   0,   0,   0,   0,\n",
       "          0,   0],\n",
       "       [  0,   0,   0,   0,   0,   0,   0,   0,   0,   0,   0,   0,   0,\n",
       "          0,   0,   0,   0,   0,   0,   0,   0,   0,   0,   0,   0,   0,\n",
       "          0,   0]], dtype=uint8)"
      ]
     },
     "execution_count": 7,
     "metadata": {},
     "output_type": "execute_result"
    }
   ],
   "source": [
    "X_train[0]"
   ]
  },
  {
   "cell_type": "code",
   "execution_count": 8,
   "id": "continent-example",
   "metadata": {
    "colab": {
     "base_uri": "https://localhost:8080/"
    },
    "execution": {
     "iopub.execute_input": "2021-06-08T18:57:43.767382Z",
     "iopub.status.busy": "2021-06-08T18:57:43.766672Z",
     "iopub.status.idle": "2021-06-08T18:57:43.770030Z",
     "shell.execute_reply": "2021-06-08T18:57:43.769631Z",
     "shell.execute_reply.started": "2021-06-08T18:56:17.176495Z"
    },
    "id": "continent-example",
    "outputId": "1801bf09-9145-447b-e465-6688232527b5",
    "papermill": {
     "duration": 0.043025,
     "end_time": "2021-06-08T18:57:43.770147",
     "exception": false,
     "start_time": "2021-06-08T18:57:43.727122",
     "status": "completed"
    },
    "tags": []
   },
   "outputs": [
    {
     "data": {
      "text/plain": [
       "0"
      ]
     },
     "execution_count": 8,
     "metadata": {},
     "output_type": "execute_result"
    }
   ],
   "source": [
    "# label\n",
    "y_train[1]"
   ]
  },
  {
   "cell_type": "code",
   "execution_count": 9,
   "id": "ZEiKJl0t4jk3",
   "metadata": {
    "colab": {
     "base_uri": "https://localhost:8080/"
    },
    "id": "ZEiKJl0t4jk3",
    "outputId": "5bb4b9c5-5079-48f9-9ae8-8ab2d591b1d4"
   },
   "outputs": [
    {
     "data": {
      "text/plain": [
       "9"
      ]
     },
     "execution_count": 9,
     "metadata": {},
     "output_type": "execute_result"
    }
   ],
   "source": [
    "y_test[0]"
   ]
  },
  {
   "cell_type": "markdown",
   "id": "billion-active",
   "metadata": {
    "id": "billion-active",
    "papermill": {
     "duration": 0.036151,
     "end_time": "2021-06-08T18:57:43.842341",
     "exception": false,
     "start_time": "2021-06-08T18:57:43.806190",
     "status": "completed"
    },
    "tags": []
   },
   "source": [
    "## Show Image"
   ]
  },
  {
   "cell_type": "code",
   "execution_count": 10,
   "id": "current-springfield",
   "metadata": {
    "execution": {
     "iopub.execute_input": "2021-06-08T18:57:43.918594Z",
     "iopub.status.busy": "2021-06-08T18:57:43.917870Z",
     "iopub.status.idle": "2021-06-08T18:57:43.920436Z",
     "shell.execute_reply": "2021-06-08T18:57:43.919941Z",
     "shell.execute_reply.started": "2021-06-08T18:56:17.186898Z"
    },
    "id": "current-springfield",
    "papermill": {
     "duration": 0.042075,
     "end_time": "2021-06-08T18:57:43.920535",
     "exception": false,
     "start_time": "2021-06-08T18:57:43.878460",
     "status": "completed"
    },
    "tags": []
   },
   "outputs": [],
   "source": [
    "class_labels = ['T-shirt/top','Trouser','Pullover','Dress','Coat','Sandal','Shirt','Sneakers','Bag','Ankle boot']"
   ]
  },
  {
   "cell_type": "code",
   "execution_count": 11,
   "id": "suspended-irish",
   "metadata": {
    "colab": {
     "base_uri": "https://localhost:8080/",
     "height": 447
    },
    "execution": {
     "iopub.execute_input": "2021-06-08T18:57:44.018537Z",
     "iopub.status.busy": "2021-06-08T18:57:44.017768Z",
     "iopub.status.idle": "2021-06-08T18:57:44.142815Z",
     "shell.execute_reply": "2021-06-08T18:57:44.142420Z",
     "shell.execute_reply.started": "2021-06-08T18:56:17.197531Z"
    },
    "id": "suspended-irish",
    "outputId": "fe055191-83b9-4061-9ae3-535763e5b5d4",
    "papermill": {
     "duration": 0.182657,
     "end_time": "2021-06-08T18:57:44.142964",
     "exception": false,
     "start_time": "2021-06-08T18:57:43.960307",
     "status": "completed"
    },
    "tags": []
   },
   "outputs": [
    {
     "data": {
      "text/plain": [
       "<matplotlib.image.AxesImage at 0x1e116025d10>"
      ]
     },
     "execution_count": 11,
     "metadata": {},
     "output_type": "execute_result"
    },
    {
     "data": {
      "image/png": "[encoded data removed]",
      "text/plain": [
       "<Figure size 640x480 with 1 Axes>"
      ]
     },
     "metadata": {},
     "output_type": "display_data"
    }
   ],
   "source": [
    "plt.imshow(X_train[0],cmap = 'Greys')"
   ]
  },
  {
   "cell_type": "code",
   "execution_count": 12,
   "id": "noble-found",
   "metadata": {
    "colab": {
     "base_uri": "https://localhost:8080/",
     "height": 447
    },
    "execution": {
     "iopub.execute_input": "2021-06-08T18:57:44.241659Z",
     "iopub.status.busy": "2021-06-08T18:57:44.240864Z",
     "iopub.status.idle": "2021-06-08T18:57:44.331001Z",
     "shell.execute_reply": "2021-06-08T18:57:44.330598Z",
     "shell.execute_reply.started": "2021-06-08T18:56:17.384125Z"
    },
    "id": "noble-found",
    "outputId": "45082916-2ffb-4dac-e161-83539aec20ae",
    "papermill": {
     "duration": 0.151193,
     "end_time": "2021-06-08T18:57:44.331116",
     "exception": false,
     "start_time": "2021-06-08T18:57:44.179923",
     "status": "completed"
    },
    "tags": []
   },
   "outputs": [
    {
     "data": {
      "text/plain": [
       "<matplotlib.image.AxesImage at 0x1e11c4b5d50>"
      ]
     },
     "execution_count": 12,
     "metadata": {},
     "output_type": "execute_result"
    },
    {
     "data": {
      "image/png": "[encoded data removed]",
      "text/plain": [
       "<Figure size 640x480 with 1 Axes>"
      ]
     },
     "metadata": {},
     "output_type": "display_data"
    }
   ],
   "source": [
    "plt.imshow(X_train[1],cmap = 'Greys')"
   ]
  },
  {
   "cell_type": "code",
   "execution_count": 13,
   "id": "structured-speed",
   "metadata": {
    "colab": {
     "base_uri": "https://localhost:8080/",
     "height": 447
    },
    "execution": {
     "iopub.execute_input": "2021-06-08T18:57:44.430429Z",
     "iopub.status.busy": "2021-06-08T18:57:44.429634Z",
     "iopub.status.idle": "2021-06-08T18:57:44.516120Z",
     "shell.execute_reply": "2021-06-08T18:57:44.516480Z",
     "shell.execute_reply.started": "2021-06-08T18:56:17.539340Z"
    },
    "id": "structured-speed",
    "outputId": "4683fb5f-9242-49a3-b6a3-e027af89764d",
    "papermill": {
     "duration": 0.147672,
     "end_time": "2021-06-08T18:57:44.516608",
     "exception": false,
     "start_time": "2021-06-08T18:57:44.368936",
     "status": "completed"
    },
    "tags": []
   },
   "outputs": [
    {
     "data": {
      "text/plain": [
       "<matplotlib.image.AxesImage at 0x1e11cd70050>"
      ]
     },
     "execution_count": 13,
     "metadata": {},
     "output_type": "execute_result"
    },
    {
     "data": {
      "image/png": "[encoded data removed]",
      "text/plain": [
       "<Figure size 640x480 with 1 Axes>"
      ]
     },
     "metadata": {},
     "output_type": "display_data"
    }
   ],
   "source": [
    "plt.imshow(X_train[2],cmap = 'Greys')"
   ]
  },
  {
   "cell_type": "code",
   "execution_count": 14,
   "id": "piano-reality",
   "metadata": {
    "colab": {
     "base_uri": "https://localhost:8080/",
     "height": 1000
    },
    "execution": {
     "iopub.execute_input": "2021-06-08T18:57:44.656549Z",
     "iopub.status.busy": "2021-06-08T18:57:44.631653Z",
     "iopub.status.idle": "2021-06-08T18:57:45.774636Z",
     "shell.execute_reply": "2021-06-08T18:57:45.774147Z",
     "shell.execute_reply.started": "2021-06-08T18:56:17.693363Z"
    },
    "id": "piano-reality",
    "outputId": "c1234ceb-4993-4a3c-e022-d9cf0667a2a5",
    "papermill": {
     "duration": 1.218701,
     "end_time": "2021-06-08T18:57:45.774761",
     "exception": false,
     "start_time": "2021-06-08T18:57:44.556060",
     "status": "completed"
    },
    "tags": []
   },
   "outputs": [
    {
     "data": {
      "image/png": "[encoded data removed]",
      "text/plain": [
       "<Figure size 1600x1600 with 25 Axes>"
      ]
     },
     "metadata": {},
     "output_type": "display_data"
    }
   ],
   "source": [
    "plt.figure(figsize=(16,16))\n",
    "j = 1\n",
    "for i in np.random.randint(0,1000,25):\n",
    "  plt.subplot(5,5,j); j+=1\n",
    "  plt.imshow(X_train[i],cmap = 'Greys')\n",
    "  plt.axis('off')\n",
    "  plt.title('{} / {}'.format(class_labels[y_train[i]],y_train[i]))"
   ]
  },
  {
   "cell_type": "code",
   "execution_count": 15,
   "id": "O4xs9Q4xIsKs",
   "metadata": {
    "colab": {
     "base_uri": "https://localhost:8080/"
    },
    "id": "O4xs9Q4xIsKs",
    "outputId": "c397fceb-2398-48ef-c4dc-adbcaa48e92b"
   },
   "outputs": [
    {
     "name": "stdout",
     "output_type": "stream",
     "text": [
      "28\n",
      "28\n",
      "28\n",
      "28\n",
      "28\n",
      "28\n",
      "28\n",
      "28\n",
      "28\n",
      "28\n",
      "28\n",
      "28\n",
      "28\n",
      "28\n",
      "28\n",
      "28\n",
      "28\n",
      "28\n",
      "28\n",
      "28\n",
      "28\n",
      "28\n",
      "28\n",
      "28\n",
      "28\n"
     ]
    }
   ],
   "source": [
    "for i in np.random.randint(0,1000,25):\n",
    "  print (len(X_train[i]))"
   ]
  },
  {
   "cell_type": "code",
   "execution_count": 16,
   "id": "sacred-council",
   "metadata": {
    "_kg_hide-input": true,
    "colab": {
     "base_uri": "https://localhost:8080/",
     "height": 1000
    },
    "execution": {
     "iopub.execute_input": "2021-06-08T18:57:45.864559Z",
     "iopub.status.busy": "2021-06-08T18:57:45.863774Z",
     "iopub.status.idle": "2021-06-08T18:57:49.849164Z",
     "shell.execute_reply": "2021-06-08T18:57:49.848717Z",
     "shell.execute_reply.started": "2021-06-08T18:56:45.759893Z"
    },
    "id": "sacred-council",
    "outputId": "1e2ebd2f-b90e-4354-8f9d-a486ffef8124",
    "papermill": {
     "duration": 4.032872,
     "end_time": "2021-06-08T18:57:49.849288",
     "exception": false,
     "start_time": "2021-06-08T18:57:45.816416",
     "status": "completed"
    },
    "tags": []
   },
   "outputs": [
    {
     "name": "stdout",
     "output_type": "stream",
     "text": [
      "eil [9 0 3 2 7 5 1 6 4 8]\n",
      "eindex1 [0, 1, 3, 5, 6, 8, 16, 18, 19, 23]\n",
      "cross check 9\n",
      "cross check 0\n",
      "cross check 3\n",
      "cross check 2\n",
      "cross check 7\n",
      "cross check 5\n",
      "cross check 1\n",
      "cross check 6\n",
      "cross check 4\n",
      "cross check 8\n",
      "x 0\n",
      "y 0\n",
      "shape (28, 28, 1)\n",
      "x 1\n",
      "y 1\n",
      "shape (28, 28, 1)\n",
      "x 2\n",
      "y 3\n",
      "shape (28, 28, 1)\n",
      "x 3\n",
      "y 5\n",
      "shape (28, 28, 1)\n",
      "x 4\n",
      "y 6\n",
      "shape (28, 28, 1)\n",
      "x 5\n",
      "y 8\n",
      "shape (28, 28, 1)\n",
      "x 6\n",
      "y 16\n",
      "shape (28, 28, 1)\n",
      "x 7\n",
      "y 18\n",
      "shape (28, 28, 1)\n",
      "x 8\n",
      "y 19\n",
      "shape (28, 28, 1)\n",
      "x 9\n",
      "y 23\n",
      "shape (28, 28, 1)\n"
     ]
    },
    {
     "data": {
      "image/png": "[encoded data removed]",
      "text/plain": [
       "<Figure size 2400x2400 with 10 Axes>"
      ]
     },
     "metadata": {},
     "output_type": "display_data"
    }
   ],
   "source": [
    "fashionMNIST = keras.datasets.fashion_mnist\n",
    "(x_train,y_train),(x_test,y_test) = fashionMNIST.load_data()\n",
    "x_train = np.expand_dims(x_train,-1) # OR x_train=x_train.reshape(len(x_train),28,28,1)\n",
    "x_test = np.expand_dims(x_test,-1) # OR x_test=x_test.reshape(len(x_test),28,28,1)\n",
    "ei1 = np.array(pd.unique(y_train))\n",
    "eindex1 = []\n",
    "print('eil',ei1)\n",
    "for i in ei1:\n",
    "    eindex1.append(list(y_train).index(i))\n",
    "print('eindex1',eindex1)\n",
    "# #cross check\n",
    "for i in eindex1:\n",
    "    print('cross check',y_train[i])\n",
    "\n",
    "plt.figure(figsize=(24,24))\n",
    "for x,y in enumerate(eindex1):\n",
    "  print('x',x)\n",
    "  print('y',y)\n",
    "\n",
    "  print('shape',x_train[y].shape)\n",
    "  plt.subplot(2,5,x+1)\n",
    "  plt.imshow(tensorflow.squeeze(x_train[y]),cmap=\"Greys\")\n",
    "  plt.title('{}'.format(y_train[y]))"
   ]
  },
  {
   "cell_type": "code",
   "execution_count": 17,
   "id": "C4k03-0IPfVy",
   "metadata": {
    "colab": {
     "base_uri": "https://localhost:8080/"
    },
    "id": "C4k03-0IPfVy",
    "outputId": "6b93eb34-9d63-475e-e2be-684d2e786ecd"
   },
   "outputs": [
    {
     "data": {
      "text/plain": [
       "array([0, 1, 2, 3, 4, 5, 6, 7, 8, 9], dtype=uint8)"
      ]
     },
     "execution_count": 17,
     "metadata": {},
     "output_type": "execute_result"
    }
   ],
   "source": [
    "np.array(np.unique(y_train))"
   ]
  },
  {
   "cell_type": "markdown",
   "id": "australian-insertion",
   "metadata": {
    "id": "australian-insertion",
    "papermill": {
     "duration": 0.042369,
     "end_time": "2021-06-08T18:57:49.934565",
     "exception": false,
     "start_time": "2021-06-08T18:57:49.892196",
     "status": "completed"
    },
    "tags": []
   },
   "source": [
    "## Change Dimensions"
   ]
  },
  {
   "cell_type": "code",
   "execution_count": 18,
   "id": "N4m8hz6ctjLZ",
   "metadata": {
    "colab": {
     "base_uri": "https://localhost:8080/"
    },
    "id": "N4m8hz6ctjLZ",
    "outputId": "296097b6-e7bb-498f-e1a9-438934ab8ba9"
   },
   "outputs": [
    {
     "data": {
      "text/plain": [
       "array([[[[0],\n",
       "         [0],\n",
       "         [0],\n",
       "         ...,\n",
       "         [0],\n",
       "         [0],\n",
       "         [0]],\n",
       "\n",
       "        [[0],\n",
       "         [0],\n",
       "         [0],\n",
       "         ...,\n",
       "         [0],\n",
       "         [0],\n",
       "         [0]],\n",
       "\n",
       "        [[0],\n",
       "         [0],\n",
       "         [0],\n",
       "         ...,\n",
       "         [0],\n",
       "         [0],\n",
       "         [0]],\n",
       "\n",
       "        ...,\n",
       "\n",
       "        [[0],\n",
       "         [0],\n",
       "         [0],\n",
       "         ...,\n",
       "         [0],\n",
       "         [0],\n",
       "         [0]],\n",
       "\n",
       "        [[0],\n",
       "         [0],\n",
       "         [0],\n",
       "         ...,\n",
       "         [0],\n",
       "         [0],\n",
       "         [0]],\n",
       "\n",
       "        [[0],\n",
       "         [0],\n",
       "         [0],\n",
       "         ...,\n",
       "         [0],\n",
       "         [0],\n",
       "         [0]]],\n",
       "\n",
       "\n",
       "       [[[0],\n",
       "         [0],\n",
       "         [0],\n",
       "         ...,\n",
       "         [0],\n",
       "         [0],\n",
       "         [0]],\n",
       "\n",
       "        [[0],\n",
       "         [0],\n",
       "         [0],\n",
       "         ...,\n",
       "         [0],\n",
       "         [0],\n",
       "         [0]],\n",
       "\n",
       "        [[0],\n",
       "         [0],\n",
       "         [0],\n",
       "         ...,\n",
       "         [0],\n",
       "         [0],\n",
       "         [0]],\n",
       "\n",
       "        ...,\n",
       "\n",
       "        [[0],\n",
       "         [0],\n",
       "         [0],\n",
       "         ...,\n",
       "         [0],\n",
       "         [0],\n",
       "         [0]],\n",
       "\n",
       "        [[0],\n",
       "         [0],\n",
       "         [0],\n",
       "         ...,\n",
       "         [0],\n",
       "         [0],\n",
       "         [0]],\n",
       "\n",
       "        [[0],\n",
       "         [0],\n",
       "         [0],\n",
       "         ...,\n",
       "         [0],\n",
       "         [0],\n",
       "         [0]]],\n",
       "\n",
       "\n",
       "       [[[0],\n",
       "         [0],\n",
       "         [0],\n",
       "         ...,\n",
       "         [0],\n",
       "         [0],\n",
       "         [0]],\n",
       "\n",
       "        [[0],\n",
       "         [0],\n",
       "         [0],\n",
       "         ...,\n",
       "         [0],\n",
       "         [0],\n",
       "         [0]],\n",
       "\n",
       "        [[0],\n",
       "         [0],\n",
       "         [0],\n",
       "         ...,\n",
       "         [0],\n",
       "         [0],\n",
       "         [0]],\n",
       "\n",
       "        ...,\n",
       "\n",
       "        [[0],\n",
       "         [0],\n",
       "         [0],\n",
       "         ...,\n",
       "         [0],\n",
       "         [0],\n",
       "         [0]],\n",
       "\n",
       "        [[0],\n",
       "         [0],\n",
       "         [0],\n",
       "         ...,\n",
       "         [0],\n",
       "         [0],\n",
       "         [0]],\n",
       "\n",
       "        [[0],\n",
       "         [0],\n",
       "         [0],\n",
       "         ...,\n",
       "         [0],\n",
       "         [0],\n",
       "         [0]]],\n",
       "\n",
       "\n",
       "       ...,\n",
       "\n",
       "\n",
       "       [[[0],\n",
       "         [0],\n",
       "         [0],\n",
       "         ...,\n",
       "         [0],\n",
       "         [0],\n",
       "         [0]],\n",
       "\n",
       "        [[0],\n",
       "         [0],\n",
       "         [0],\n",
       "         ...,\n",
       "         [0],\n",
       "         [0],\n",
       "         [0]],\n",
       "\n",
       "        [[0],\n",
       "         [0],\n",
       "         [0],\n",
       "         ...,\n",
       "         [0],\n",
       "         [0],\n",
       "         [0]],\n",
       "\n",
       "        ...,\n",
       "\n",
       "        [[0],\n",
       "         [0],\n",
       "         [0],\n",
       "         ...,\n",
       "         [0],\n",
       "         [0],\n",
       "         [0]],\n",
       "\n",
       "        [[0],\n",
       "         [0],\n",
       "         [0],\n",
       "         ...,\n",
       "         [0],\n",
       "         [0],\n",
       "         [0]],\n",
       "\n",
       "        [[0],\n",
       "         [0],\n",
       "         [0],\n",
       "         ...,\n",
       "         [0],\n",
       "         [0],\n",
       "         [0]]],\n",
       "\n",
       "\n",
       "       [[[0],\n",
       "         [0],\n",
       "         [0],\n",
       "         ...,\n",
       "         [0],\n",
       "         [0],\n",
       "         [0]],\n",
       "\n",
       "        [[0],\n",
       "         [0],\n",
       "         [0],\n",
       "         ...,\n",
       "         [0],\n",
       "         [0],\n",
       "         [0]],\n",
       "\n",
       "        [[0],\n",
       "         [0],\n",
       "         [0],\n",
       "         ...,\n",
       "         [0],\n",
       "         [0],\n",
       "         [0]],\n",
       "\n",
       "        ...,\n",
       "\n",
       "        [[0],\n",
       "         [0],\n",
       "         [0],\n",
       "         ...,\n",
       "         [0],\n",
       "         [0],\n",
       "         [0]],\n",
       "\n",
       "        [[0],\n",
       "         [0],\n",
       "         [0],\n",
       "         ...,\n",
       "         [0],\n",
       "         [0],\n",
       "         [0]],\n",
       "\n",
       "        [[0],\n",
       "         [0],\n",
       "         [0],\n",
       "         ...,\n",
       "         [0],\n",
       "         [0],\n",
       "         [0]]],\n",
       "\n",
       "\n",
       "       [[[0],\n",
       "         [0],\n",
       "         [0],\n",
       "         ...,\n",
       "         [0],\n",
       "         [0],\n",
       "         [0]],\n",
       "\n",
       "        [[0],\n",
       "         [0],\n",
       "         [0],\n",
       "         ...,\n",
       "         [0],\n",
       "         [0],\n",
       "         [0]],\n",
       "\n",
       "        [[0],\n",
       "         [0],\n",
       "         [0],\n",
       "         ...,\n",
       "         [0],\n",
       "         [0],\n",
       "         [0]],\n",
       "\n",
       "        ...,\n",
       "\n",
       "        [[0],\n",
       "         [0],\n",
       "         [0],\n",
       "         ...,\n",
       "         [0],\n",
       "         [0],\n",
       "         [0]],\n",
       "\n",
       "        [[0],\n",
       "         [0],\n",
       "         [0],\n",
       "         ...,\n",
       "         [0],\n",
       "         [0],\n",
       "         [0]],\n",
       "\n",
       "        [[0],\n",
       "         [0],\n",
       "         [0],\n",
       "         ...,\n",
       "         [0],\n",
       "         [0],\n",
       "         [0]]]], dtype=uint8)"
      ]
     },
     "execution_count": 18,
     "metadata": {},
     "output_type": "execute_result"
    }
   ],
   "source": [
    "x_train"
   ]
  },
  {
   "cell_type": "code",
   "execution_count": 19,
   "id": "Kg5P7RsCtW00",
   "metadata": {
    "colab": {
     "base_uri": "https://localhost:8080/"
    },
    "id": "Kg5P7RsCtW00",
    "outputId": "765254ac-c1c3-491e-bf26-25043b1cb832"
   },
   "outputs": [
    {
     "data": {
      "text/plain": [
       "array([[[[  0],\n",
       "         [  0],\n",
       "         [  0],\n",
       "         [  0],\n",
       "         [  0],\n",
       "         [  0],\n",
       "         [  0],\n",
       "         [  0],\n",
       "         [  0],\n",
       "         [  0],\n",
       "         [  0],\n",
       "         [  0],\n",
       "         [  0],\n",
       "         [  0],\n",
       "         [  0],\n",
       "         [  0],\n",
       "         [  0],\n",
       "         [  0],\n",
       "         [  0],\n",
       "         [  0],\n",
       "         [  0],\n",
       "         [  0],\n",
       "         [  0],\n",
       "         [  0],\n",
       "         [  0],\n",
       "         [  0],\n",
       "         [  0],\n",
       "         [  0]],\n",
       "\n",
       "        [[  0],\n",
       "         [  0],\n",
       "         [  0],\n",
       "         [  0],\n",
       "         [  0],\n",
       "         [  0],\n",
       "         [  0],\n",
       "         [  0],\n",
       "         [  0],\n",
       "         [  0],\n",
       "         [  0],\n",
       "         [  0],\n",
       "         [  0],\n",
       "         [  0],\n",
       "         [  0],\n",
       "         [  0],\n",
       "         [  0],\n",
       "         [  0],\n",
       "         [  0],\n",
       "         [  0],\n",
       "         [  0],\n",
       "         [  0],\n",
       "         [  0],\n",
       "         [  0],\n",
       "         [  0],\n",
       "         [  0],\n",
       "         [  0],\n",
       "         [  0]],\n",
       "\n",
       "        [[  0],\n",
       "         [  0],\n",
       "         [  0],\n",
       "         [  0],\n",
       "         [  0],\n",
       "         [  0],\n",
       "         [  0],\n",
       "         [  0],\n",
       "         [  0],\n",
       "         [  0],\n",
       "         [  0],\n",
       "         [  0],\n",
       "         [  0],\n",
       "         [  0],\n",
       "         [  0],\n",
       "         [  0],\n",
       "         [  0],\n",
       "         [  0],\n",
       "         [  0],\n",
       "         [  0],\n",
       "         [  0],\n",
       "         [  0],\n",
       "         [  0],\n",
       "         [  0],\n",
       "         [  0],\n",
       "         [  0],\n",
       "         [  0],\n",
       "         [  0]],\n",
       "\n",
       "        [[  0],\n",
       "         [  0],\n",
       "         [  0],\n",
       "         [  0],\n",
       "         [  0],\n",
       "         [  0],\n",
       "         [  0],\n",
       "         [  0],\n",
       "         [  0],\n",
       "         [  0],\n",
       "         [  0],\n",
       "         [  0],\n",
       "         [  0],\n",
       "         [  0],\n",
       "         [  0],\n",
       "         [  0],\n",
       "         [  0],\n",
       "         [  0],\n",
       "         [  0],\n",
       "         [  0],\n",
       "         [  0],\n",
       "         [  0],\n",
       "         [  0],\n",
       "         [  0],\n",
       "         [  0],\n",
       "         [  0],\n",
       "         [  0],\n",
       "         [  0]],\n",
       "\n",
       "        [[  0],\n",
       "         [  0],\n",
       "         [  0],\n",
       "         [  0],\n",
       "         [  0],\n",
       "         [  0],\n",
       "         [  0],\n",
       "         [  0],\n",
       "         [  0],\n",
       "         [  0],\n",
       "         [  0],\n",
       "         [  0],\n",
       "         [  0],\n",
       "         [  0],\n",
       "         [  0],\n",
       "         [  0],\n",
       "         [  0],\n",
       "         [  0],\n",
       "         [  0],\n",
       "         [  0],\n",
       "         [  0],\n",
       "         [  0],\n",
       "         [  0],\n",
       "         [  0],\n",
       "         [  0],\n",
       "         [  0],\n",
       "         [  0],\n",
       "         [  0]],\n",
       "\n",
       "        [[  0],\n",
       "         [  0],\n",
       "         [  0],\n",
       "         [  0],\n",
       "         [  0],\n",
       "         [  0],\n",
       "         [  0],\n",
       "         [  0],\n",
       "         [  0],\n",
       "         [  0],\n",
       "         [  0],\n",
       "         [  0],\n",
       "         [  0],\n",
       "         [  0],\n",
       "         [  0],\n",
       "         [  0],\n",
       "         [  0],\n",
       "         [  0],\n",
       "         [  0],\n",
       "         [  0],\n",
       "         [  0],\n",
       "         [  0],\n",
       "         [  0],\n",
       "         [  0],\n",
       "         [  0],\n",
       "         [  0],\n",
       "         [  0],\n",
       "         [  0]],\n",
       "\n",
       "        [[  0],\n",
       "         [  0],\n",
       "         [  0],\n",
       "         [  0],\n",
       "         [  0],\n",
       "         [  0],\n",
       "         [  0],\n",
       "         [  0],\n",
       "         [  0],\n",
       "         [  0],\n",
       "         [  0],\n",
       "         [  0],\n",
       "         [  0],\n",
       "         [  0],\n",
       "         [  0],\n",
       "         [  0],\n",
       "         [  0],\n",
       "         [  0],\n",
       "         [  0],\n",
       "         [  0],\n",
       "         [  0],\n",
       "         [  0],\n",
       "         [  0],\n",
       "         [  0],\n",
       "         [  0],\n",
       "         [  0],\n",
       "         [  0],\n",
       "         [  0]],\n",
       "\n",
       "        [[  0],\n",
       "         [  0],\n",
       "         [  0],\n",
       "         [  0],\n",
       "         [  0],\n",
       "         [  0],\n",
       "         [  0],\n",
       "         [  0],\n",
       "         [  0],\n",
       "         [  0],\n",
       "         [  0],\n",
       "         [  0],\n",
       "         [  0],\n",
       "         [  0],\n",
       "         [  0],\n",
       "         [  0],\n",
       "         [  0],\n",
       "         [  0],\n",
       "         [  0],\n",
       "         [  3],\n",
       "         [  1],\n",
       "         [  0],\n",
       "         [  0],\n",
       "         [  7],\n",
       "         [  0],\n",
       "         [ 37],\n",
       "         [  0],\n",
       "         [  0]],\n",
       "\n",
       "        [[  0],\n",
       "         [  0],\n",
       "         [  0],\n",
       "         [  0],\n",
       "         [  0],\n",
       "         [  0],\n",
       "         [  0],\n",
       "         [  0],\n",
       "         [  0],\n",
       "         [  0],\n",
       "         [  0],\n",
       "         [  0],\n",
       "         [  0],\n",
       "         [  1],\n",
       "         [  2],\n",
       "         [  0],\n",
       "         [ 27],\n",
       "         [ 84],\n",
       "         [ 11],\n",
       "         [  0],\n",
       "         [  0],\n",
       "         [  0],\n",
       "         [  0],\n",
       "         [  0],\n",
       "         [  0],\n",
       "         [119],\n",
       "         [  0],\n",
       "         [  0]],\n",
       "\n",
       "        [[  0],\n",
       "         [  0],\n",
       "         [  0],\n",
       "         [  0],\n",
       "         [  0],\n",
       "         [  0],\n",
       "         [  0],\n",
       "         [  0],\n",
       "         [  0],\n",
       "         [  0],\n",
       "         [  0],\n",
       "         [  0],\n",
       "         [  0],\n",
       "         [  1],\n",
       "         [  0],\n",
       "         [  0],\n",
       "         [ 88],\n",
       "         [143],\n",
       "         [110],\n",
       "         [  0],\n",
       "         [  0],\n",
       "         [  0],\n",
       "         [  0],\n",
       "         [ 22],\n",
       "         [ 93],\n",
       "         [106],\n",
       "         [  0],\n",
       "         [  0]],\n",
       "\n",
       "        [[  0],\n",
       "         [  0],\n",
       "         [  0],\n",
       "         [  0],\n",
       "         [  0],\n",
       "         [  0],\n",
       "         [  0],\n",
       "         [  0],\n",
       "         [  0],\n",
       "         [  0],\n",
       "         [  0],\n",
       "         [  0],\n",
       "         [  0],\n",
       "         [  4],\n",
       "         [  0],\n",
       "         [ 53],\n",
       "         [129],\n",
       "         [120],\n",
       "         [147],\n",
       "         [175],\n",
       "         [157],\n",
       "         [166],\n",
       "         [135],\n",
       "         [154],\n",
       "         [168],\n",
       "         [140],\n",
       "         [  0],\n",
       "         [  0]],\n",
       "\n",
       "        [[  0],\n",
       "         [  0],\n",
       "         [  0],\n",
       "         [  0],\n",
       "         [  0],\n",
       "         [  0],\n",
       "         [  0],\n",
       "         [  0],\n",
       "         [  0],\n",
       "         [  0],\n",
       "         [  0],\n",
       "         [  0],\n",
       "         [  2],\n",
       "         [  0],\n",
       "         [ 11],\n",
       "         [137],\n",
       "         [130],\n",
       "         [128],\n",
       "         [160],\n",
       "         [176],\n",
       "         [159],\n",
       "         [167],\n",
       "         [178],\n",
       "         [149],\n",
       "         [151],\n",
       "         [144],\n",
       "         [  0],\n",
       "         [  0]],\n",
       "\n",
       "        [[  0],\n",
       "         [  0],\n",
       "         [  0],\n",
       "         [  0],\n",
       "         [  0],\n",
       "         [  0],\n",
       "         [  1],\n",
       "         [  0],\n",
       "         [  2],\n",
       "         [  1],\n",
       "         [  0],\n",
       "         [  3],\n",
       "         [  0],\n",
       "         [  0],\n",
       "         [115],\n",
       "         [114],\n",
       "         [106],\n",
       "         [137],\n",
       "         [168],\n",
       "         [153],\n",
       "         [156],\n",
       "         [165],\n",
       "         [167],\n",
       "         [143],\n",
       "         [157],\n",
       "         [158],\n",
       "         [ 11],\n",
       "         [  0]],\n",
       "\n",
       "        [[  0],\n",
       "         [  0],\n",
       "         [  0],\n",
       "         [  0],\n",
       "         [  1],\n",
       "         [  0],\n",
       "         [  0],\n",
       "         [  0],\n",
       "         [  0],\n",
       "         [  0],\n",
       "         [  3],\n",
       "         [  0],\n",
       "         [  0],\n",
       "         [ 89],\n",
       "         [139],\n",
       "         [ 90],\n",
       "         [ 94],\n",
       "         [153],\n",
       "         [149],\n",
       "         [131],\n",
       "         [151],\n",
       "         [169],\n",
       "         [172],\n",
       "         [143],\n",
       "         [159],\n",
       "         [169],\n",
       "         [ 48],\n",
       "         [  0]],\n",
       "\n",
       "        [[  0],\n",
       "         [  0],\n",
       "         [  0],\n",
       "         [  0],\n",
       "         [  0],\n",
       "         [  0],\n",
       "         [  2],\n",
       "         [  4],\n",
       "         [  1],\n",
       "         [  0],\n",
       "         [  0],\n",
       "         [  0],\n",
       "         [ 98],\n",
       "         [136],\n",
       "         [110],\n",
       "         [109],\n",
       "         [110],\n",
       "         [162],\n",
       "         [135],\n",
       "         [144],\n",
       "         [149],\n",
       "         [159],\n",
       "         [167],\n",
       "         [144],\n",
       "         [158],\n",
       "         [169],\n",
       "         [119],\n",
       "         [  0]],\n",
       "\n",
       "        [[  0],\n",
       "         [  0],\n",
       "         [  2],\n",
       "         [  2],\n",
       "         [  1],\n",
       "         [  2],\n",
       "         [  0],\n",
       "         [  0],\n",
       "         [  0],\n",
       "         [  0],\n",
       "         [ 26],\n",
       "         [108],\n",
       "         [117],\n",
       "         [ 99],\n",
       "         [111],\n",
       "         [117],\n",
       "         [136],\n",
       "         [156],\n",
       "         [134],\n",
       "         [154],\n",
       "         [154],\n",
       "         [156],\n",
       "         [160],\n",
       "         [141],\n",
       "         [147],\n",
       "         [156],\n",
       "         [178],\n",
       "         [  0]],\n",
       "\n",
       "        [[  3],\n",
       "         [  0],\n",
       "         [  0],\n",
       "         [  0],\n",
       "         [  0],\n",
       "         [  0],\n",
       "         [  0],\n",
       "         [ 21],\n",
       "         [ 53],\n",
       "         [ 92],\n",
       "         [117],\n",
       "         [111],\n",
       "         [103],\n",
       "         [115],\n",
       "         [129],\n",
       "         [134],\n",
       "         [143],\n",
       "         [154],\n",
       "         [165],\n",
       "         [170],\n",
       "         [154],\n",
       "         [151],\n",
       "         [154],\n",
       "         [143],\n",
       "         [138],\n",
       "         [150],\n",
       "         [165],\n",
       "         [ 43]],\n",
       "\n",
       "        [[  0],\n",
       "         [  0],\n",
       "         [ 23],\n",
       "         [ 54],\n",
       "         [ 65],\n",
       "         [ 76],\n",
       "         [ 85],\n",
       "         [118],\n",
       "         [128],\n",
       "         [123],\n",
       "         [111],\n",
       "         [113],\n",
       "         [118],\n",
       "         [127],\n",
       "         [125],\n",
       "         [139],\n",
       "         [133],\n",
       "         [136],\n",
       "         [160],\n",
       "         [140],\n",
       "         [155],\n",
       "         [161],\n",
       "         [144],\n",
       "         [155],\n",
       "         [172],\n",
       "         [161],\n",
       "         [189],\n",
       "         [ 62]],\n",
       "\n",
       "        [[  0],\n",
       "         [ 68],\n",
       "         [ 94],\n",
       "         [ 90],\n",
       "         [111],\n",
       "         [114],\n",
       "         [111],\n",
       "         [114],\n",
       "         [115],\n",
       "         [127],\n",
       "         [135],\n",
       "         [136],\n",
       "         [143],\n",
       "         [126],\n",
       "         [127],\n",
       "         [151],\n",
       "         [154],\n",
       "         [143],\n",
       "         [148],\n",
       "         [125],\n",
       "         [162],\n",
       "         [162],\n",
       "         [144],\n",
       "         [138],\n",
       "         [153],\n",
       "         [162],\n",
       "         [196],\n",
       "         [ 58]],\n",
       "\n",
       "        [[ 70],\n",
       "         [169],\n",
       "         [129],\n",
       "         [104],\n",
       "         [ 98],\n",
       "         [100],\n",
       "         [ 94],\n",
       "         [ 97],\n",
       "         [ 98],\n",
       "         [102],\n",
       "         [108],\n",
       "         [106],\n",
       "         [119],\n",
       "         [120],\n",
       "         [129],\n",
       "         [149],\n",
       "         [156],\n",
       "         [167],\n",
       "         [190],\n",
       "         [190],\n",
       "         [196],\n",
       "         [198],\n",
       "         [198],\n",
       "         [187],\n",
       "         [197],\n",
       "         [189],\n",
       "         [184],\n",
       "         [ 36]],\n",
       "\n",
       "        [[ 16],\n",
       "         [126],\n",
       "         [171],\n",
       "         [188],\n",
       "         [188],\n",
       "         [184],\n",
       "         [171],\n",
       "         [153],\n",
       "         [135],\n",
       "         [120],\n",
       "         [126],\n",
       "         [127],\n",
       "         [146],\n",
       "         [185],\n",
       "         [195],\n",
       "         [209],\n",
       "         [208],\n",
       "         [255],\n",
       "         [209],\n",
       "         [177],\n",
       "         [245],\n",
       "         [252],\n",
       "         [251],\n",
       "         [251],\n",
       "         [247],\n",
       "         [220],\n",
       "         [206],\n",
       "         [ 49]],\n",
       "\n",
       "        [[  0],\n",
       "         [  0],\n",
       "         [  0],\n",
       "         [ 12],\n",
       "         [ 67],\n",
       "         [106],\n",
       "         [164],\n",
       "         [185],\n",
       "         [199],\n",
       "         [210],\n",
       "         [211],\n",
       "         [210],\n",
       "         [208],\n",
       "         [190],\n",
       "         [150],\n",
       "         [ 82],\n",
       "         [  8],\n",
       "         [  0],\n",
       "         [  0],\n",
       "         [  0],\n",
       "         [178],\n",
       "         [208],\n",
       "         [188],\n",
       "         [175],\n",
       "         [162],\n",
       "         [158],\n",
       "         [151],\n",
       "         [ 11]],\n",
       "\n",
       "        [[  0],\n",
       "         [  0],\n",
       "         [  0],\n",
       "         [  0],\n",
       "         [  0],\n",
       "         [  0],\n",
       "         [  0],\n",
       "         [  0],\n",
       "         [  0],\n",
       "         [  0],\n",
       "         [  0],\n",
       "         [  0],\n",
       "         [  0],\n",
       "         [  0],\n",
       "         [  0],\n",
       "         [  0],\n",
       "         [  0],\n",
       "         [  0],\n",
       "         [  0],\n",
       "         [  0],\n",
       "         [  0],\n",
       "         [  0],\n",
       "         [  0],\n",
       "         [  0],\n",
       "         [  0],\n",
       "         [  0],\n",
       "         [  0],\n",
       "         [  0]],\n",
       "\n",
       "        [[  0],\n",
       "         [  0],\n",
       "         [  0],\n",
       "         [  0],\n",
       "         [  0],\n",
       "         [  0],\n",
       "         [  0],\n",
       "         [  0],\n",
       "         [  0],\n",
       "         [  0],\n",
       "         [  0],\n",
       "         [  0],\n",
       "         [  0],\n",
       "         [  0],\n",
       "         [  0],\n",
       "         [  0],\n",
       "         [  0],\n",
       "         [  0],\n",
       "         [  0],\n",
       "         [  0],\n",
       "         [  0],\n",
       "         [  0],\n",
       "         [  0],\n",
       "         [  0],\n",
       "         [  0],\n",
       "         [  0],\n",
       "         [  0],\n",
       "         [  0]],\n",
       "\n",
       "        [[  0],\n",
       "         [  0],\n",
       "         [  0],\n",
       "         [  0],\n",
       "         [  0],\n",
       "         [  0],\n",
       "         [  0],\n",
       "         [  0],\n",
       "         [  0],\n",
       "         [  0],\n",
       "         [  0],\n",
       "         [  0],\n",
       "         [  0],\n",
       "         [  0],\n",
       "         [  0],\n",
       "         [  0],\n",
       "         [  0],\n",
       "         [  0],\n",
       "         [  0],\n",
       "         [  0],\n",
       "         [  0],\n",
       "         [  0],\n",
       "         [  0],\n",
       "         [  0],\n",
       "         [  0],\n",
       "         [  0],\n",
       "         [  0],\n",
       "         [  0]],\n",
       "\n",
       "        [[  0],\n",
       "         [  0],\n",
       "         [  0],\n",
       "         [  0],\n",
       "         [  0],\n",
       "         [  0],\n",
       "         [  0],\n",
       "         [  0],\n",
       "         [  0],\n",
       "         [  0],\n",
       "         [  0],\n",
       "         [  0],\n",
       "         [  0],\n",
       "         [  0],\n",
       "         [  0],\n",
       "         [  0],\n",
       "         [  0],\n",
       "         [  0],\n",
       "         [  0],\n",
       "         [  0],\n",
       "         [  0],\n",
       "         [  0],\n",
       "         [  0],\n",
       "         [  0],\n",
       "         [  0],\n",
       "         [  0],\n",
       "         [  0],\n",
       "         [  0]],\n",
       "\n",
       "        [[  0],\n",
       "         [  0],\n",
       "         [  0],\n",
       "         [  0],\n",
       "         [  0],\n",
       "         [  0],\n",
       "         [  0],\n",
       "         [  0],\n",
       "         [  0],\n",
       "         [  0],\n",
       "         [  0],\n",
       "         [  0],\n",
       "         [  0],\n",
       "         [  0],\n",
       "         [  0],\n",
       "         [  0],\n",
       "         [  0],\n",
       "         [  0],\n",
       "         [  0],\n",
       "         [  0],\n",
       "         [  0],\n",
       "         [  0],\n",
       "         [  0],\n",
       "         [  0],\n",
       "         [  0],\n",
       "         [  0],\n",
       "         [  0],\n",
       "         [  0]],\n",
       "\n",
       "        [[  0],\n",
       "         [  0],\n",
       "         [  0],\n",
       "         [  0],\n",
       "         [  0],\n",
       "         [  0],\n",
       "         [  0],\n",
       "         [  0],\n",
       "         [  0],\n",
       "         [  0],\n",
       "         [  0],\n",
       "         [  0],\n",
       "         [  0],\n",
       "         [  0],\n",
       "         [  0],\n",
       "         [  0],\n",
       "         [  0],\n",
       "         [  0],\n",
       "         [  0],\n",
       "         [  0],\n",
       "         [  0],\n",
       "         [  0],\n",
       "         [  0],\n",
       "         [  0],\n",
       "         [  0],\n",
       "         [  0],\n",
       "         [  0],\n",
       "         [  0]]]], dtype=uint8)"
      ]
     },
     "execution_count": 19,
     "metadata": {},
     "output_type": "execute_result"
    }
   ],
   "source": [
    "np.expand_dims(x_test[0],axis=0)"
   ]
  },
  {
   "cell_type": "code",
   "execution_count": 20,
   "id": "canadian-county",
   "metadata": {
    "colab": {
     "base_uri": "https://localhost:8080/"
    },
    "execution": {
     "iopub.execute_input": "2021-06-08T18:57:50.023661Z",
     "iopub.status.busy": "2021-06-08T18:57:50.023148Z",
     "iopub.status.idle": "2021-06-08T18:57:50.028795Z",
     "shell.execute_reply": "2021-06-08T18:57:50.028385Z",
     "shell.execute_reply.started": "2021-06-04T10:21:29.38336Z"
    },
    "id": "canadian-county",
    "outputId": "8613e8ac-d93d-434c-b170-1b72036c499a",
    "papermill": {
     "duration": 0.05101,
     "end_time": "2021-06-08T18:57:50.028918",
     "exception": false,
     "start_time": "2021-06-08T18:57:49.977908",
     "status": "completed"
    },
    "tags": []
   },
   "outputs": [
    {
     "data": {
      "text/plain": [
       "3"
      ]
     },
     "execution_count": 20,
     "metadata": {},
     "output_type": "execute_result"
    }
   ],
   "source": [
    "# 3 dimension image\n",
    "X_train.ndim"
   ]
  },
  {
   "cell_type": "code",
   "execution_count": 21,
   "id": "reverse-empire",
   "metadata": {
    "colab": {
     "base_uri": "https://localhost:8080/"
    },
    "execution": {
     "iopub.execute_input": "2021-06-08T18:57:50.118703Z",
     "iopub.status.busy": "2021-06-08T18:57:50.118029Z",
     "iopub.status.idle": "2021-06-08T18:57:50.120727Z",
     "shell.execute_reply": "2021-06-08T18:57:50.121130Z",
     "shell.execute_reply.started": "2021-06-04T10:21:29.390553Z"
    },
    "id": "reverse-empire",
    "outputId": "e1ccd249-ef10-4145-9639-4a66576a4379",
    "papermill": {
     "duration": 0.049963,
     "end_time": "2021-06-08T18:57:50.121246",
     "exception": false,
     "start_time": "2021-06-08T18:57:50.071283",
     "status": "completed"
    },
    "tags": []
   },
   "outputs": [
    {
     "data": {
      "text/plain": [
       "(60000, 28, 28)"
      ]
     },
     "execution_count": 21,
     "metadata": {},
     "output_type": "execute_result"
    }
   ],
   "source": [
    "X_train.shape"
   ]
  },
  {
   "cell_type": "code",
   "execution_count": 22,
   "id": "yellow-ancient",
   "metadata": {
    "execution": {
     "iopub.execute_input": "2021-06-08T18:57:50.211406Z",
     "iopub.status.busy": "2021-06-08T18:57:50.210208Z",
     "iopub.status.idle": "2021-06-08T18:57:50.212495Z",
     "shell.execute_reply": "2021-06-08T18:57:50.212918Z",
     "shell.execute_reply.started": "2021-06-04T10:21:29.402848Z"
    },
    "id": "yellow-ancient",
    "papermill": {
     "duration": 0.048711,
     "end_time": "2021-06-08T18:57:50.213036",
     "exception": false,
     "start_time": "2021-06-08T18:57:50.164325",
     "status": "completed"
    },
    "tags": []
   },
   "outputs": [],
   "source": [
    "X_train  = np.expand_dims(X_train,-1)\n",
    "X_test  = np.expand_dims(X_test,-1)"
   ]
  },
  {
   "cell_type": "code",
   "execution_count": 23,
   "id": "handmade-mining",
   "metadata": {
    "colab": {
     "base_uri": "https://localhost:8080/"
    },
    "execution": {
     "iopub.execute_input": "2021-06-08T18:57:50.303241Z",
     "iopub.status.busy": "2021-06-08T18:57:50.302631Z",
     "iopub.status.idle": "2021-06-08T18:57:50.305426Z",
     "shell.execute_reply": "2021-06-08T18:57:50.305831Z",
     "shell.execute_reply.started": "2021-06-04T10:21:29.411996Z"
    },
    "id": "handmade-mining",
    "outputId": "acd980ad-e254-4a97-bf0b-24e10e438e88",
    "papermill": {
     "duration": 0.050242,
     "end_time": "2021-06-08T18:57:50.305949",
     "exception": false,
     "start_time": "2021-06-08T18:57:50.255707",
     "status": "completed"
    },
    "tags": []
   },
   "outputs": [
    {
     "data": {
      "text/plain": [
       "4"
      ]
     },
     "execution_count": 23,
     "metadata": {},
     "output_type": "execute_result"
    }
   ],
   "source": [
    "# 4 Dimension image\n",
    "X_train.ndim"
   ]
  },
  {
   "cell_type": "code",
   "execution_count": 24,
   "id": "desirable-durham",
   "metadata": {
    "colab": {
     "base_uri": "https://localhost:8080/"
    },
    "execution": {
     "iopub.execute_input": "2021-06-08T18:57:50.396289Z",
     "iopub.status.busy": "2021-06-08T18:57:50.395553Z",
     "iopub.status.idle": "2021-06-08T18:57:50.398988Z",
     "shell.execute_reply": "2021-06-08T18:57:50.398542Z",
     "shell.execute_reply.started": "2021-06-04T10:21:29.423061Z"
    },
    "id": "desirable-durham",
    "outputId": "3933bdd1-72b8-4bc4-f7d0-b94cfc8ddb76",
    "papermill": {
     "duration": 0.050287,
     "end_time": "2021-06-08T18:57:50.399089",
     "exception": false,
     "start_time": "2021-06-08T18:57:50.348802",
     "status": "completed"
    },
    "tags": []
   },
   "outputs": [
    {
     "data": {
      "text/plain": [
       "(60000, 28, 28, 1)"
      ]
     },
     "execution_count": 24,
     "metadata": {},
     "output_type": "execute_result"
    }
   ],
   "source": [
    "X_train.shape"
   ]
  },
  {
   "cell_type": "markdown",
   "id": "measured-coordinator",
   "metadata": {
    "id": "measured-coordinator",
    "papermill": {
     "duration": 0.043425,
     "end_time": "2021-06-08T18:57:50.485641",
     "exception": false,
     "start_time": "2021-06-08T18:57:50.442216",
     "status": "completed"
    },
    "tags": []
   },
   "source": [
    "## Feature Scaling"
   ]
  },
  {
   "cell_type": "code",
   "execution_count": 25,
   "id": "scientific-planning",
   "metadata": {
    "execution": {
     "iopub.execute_input": "2021-06-08T18:57:50.576967Z",
     "iopub.status.busy": "2021-06-08T18:57:50.575990Z",
     "iopub.status.idle": "2021-06-08T18:57:50.713149Z",
     "shell.execute_reply": "2021-06-08T18:57:50.712653Z",
     "shell.execute_reply.started": "2021-06-04T10:21:29.433497Z"
    },
    "id": "scientific-planning",
    "papermill": {
     "duration": 0.183668,
     "end_time": "2021-06-08T18:57:50.713286",
     "exception": false,
     "start_time": "2021-06-08T18:57:50.529618",
     "status": "completed"
    },
    "tags": []
   },
   "outputs": [],
   "source": [
    "X_train = X_train/255\n",
    "X_test = X_test/255"
   ]
  },
  {
   "cell_type": "code",
   "execution_count": 26,
   "id": "opposite-radiation",
   "metadata": {
    "_kg_hide-output": false,
    "colab": {
     "base_uri": "https://localhost:8080/"
    },
    "execution": {
     "iopub.execute_input": "2021-06-08T18:57:50.805437Z",
     "iopub.status.busy": "2021-06-08T18:57:50.804615Z",
     "iopub.status.idle": "2021-06-08T18:57:50.813679Z",
     "shell.execute_reply": "2021-06-08T18:57:50.814138Z",
     "shell.execute_reply.started": "2021-06-04T10:21:29.60456Z"
    },
    "id": "opposite-radiation",
    "outputId": "7f0254e1-370e-4f24-bbc8-1611b6bf7a77",
    "papermill": {
     "duration": 0.056951,
     "end_time": "2021-06-08T18:57:50.814298",
     "exception": false,
     "start_time": "2021-06-08T18:57:50.757347",
     "status": "completed"
    },
    "tags": []
   },
   "outputs": [
    {
     "data": {
      "text/plain": [
       "array([[[[0.],\n",
       "         [0.],\n",
       "         [0.],\n",
       "         ...,\n",
       "         [0.],\n",
       "         [0.],\n",
       "         [0.]],\n",
       "\n",
       "        [[0.],\n",
       "         [0.],\n",
       "         [0.],\n",
       "         ...,\n",
       "         [0.],\n",
       "         [0.],\n",
       "         [0.]],\n",
       "\n",
       "        [[0.],\n",
       "         [0.],\n",
       "         [0.],\n",
       "         ...,\n",
       "         [0.],\n",
       "         [0.],\n",
       "         [0.]],\n",
       "\n",
       "        ...,\n",
       "\n",
       "        [[0.],\n",
       "         [0.],\n",
       "         [0.],\n",
       "         ...,\n",
       "         [0.],\n",
       "         [0.],\n",
       "         [0.]],\n",
       "\n",
       "        [[0.],\n",
       "         [0.],\n",
       "         [0.],\n",
       "         ...,\n",
       "         [0.],\n",
       "         [0.],\n",
       "         [0.]],\n",
       "\n",
       "        [[0.],\n",
       "         [0.],\n",
       "         [0.],\n",
       "         ...,\n",
       "         [0.],\n",
       "         [0.],\n",
       "         [0.]]],\n",
       "\n",
       "\n",
       "       [[[0.],\n",
       "         [0.],\n",
       "         [0.],\n",
       "         ...,\n",
       "         [0.],\n",
       "         [0.],\n",
       "         [0.]],\n",
       "\n",
       "        [[0.],\n",
       "         [0.],\n",
       "         [0.],\n",
       "         ...,\n",
       "         [0.],\n",
       "         [0.],\n",
       "         [0.]],\n",
       "\n",
       "        [[0.],\n",
       "         [0.],\n",
       "         [0.],\n",
       "         ...,\n",
       "         [0.],\n",
       "         [0.],\n",
       "         [0.]],\n",
       "\n",
       "        ...,\n",
       "\n",
       "        [[0.],\n",
       "         [0.],\n",
       "         [0.],\n",
       "         ...,\n",
       "         [0.],\n",
       "         [0.],\n",
       "         [0.]],\n",
       "\n",
       "        [[0.],\n",
       "         [0.],\n",
       "         [0.],\n",
       "         ...,\n",
       "         [0.],\n",
       "         [0.],\n",
       "         [0.]],\n",
       "\n",
       "        [[0.],\n",
       "         [0.],\n",
       "         [0.],\n",
       "         ...,\n",
       "         [0.],\n",
       "         [0.],\n",
       "         [0.]]],\n",
       "\n",
       "\n",
       "       [[[0.],\n",
       "         [0.],\n",
       "         [0.],\n",
       "         ...,\n",
       "         [0.],\n",
       "         [0.],\n",
       "         [0.]],\n",
       "\n",
       "        [[0.],\n",
       "         [0.],\n",
       "         [0.],\n",
       "         ...,\n",
       "         [0.],\n",
       "         [0.],\n",
       "         [0.]],\n",
       "\n",
       "        [[0.],\n",
       "         [0.],\n",
       "         [0.],\n",
       "         ...,\n",
       "         [0.],\n",
       "         [0.],\n",
       "         [0.]],\n",
       "\n",
       "        ...,\n",
       "\n",
       "        [[0.],\n",
       "         [0.],\n",
       "         [0.],\n",
       "         ...,\n",
       "         [0.],\n",
       "         [0.],\n",
       "         [0.]],\n",
       "\n",
       "        [[0.],\n",
       "         [0.],\n",
       "         [0.],\n",
       "         ...,\n",
       "         [0.],\n",
       "         [0.],\n",
       "         [0.]],\n",
       "\n",
       "        [[0.],\n",
       "         [0.],\n",
       "         [0.],\n",
       "         ...,\n",
       "         [0.],\n",
       "         [0.],\n",
       "         [0.]]],\n",
       "\n",
       "\n",
       "       ...,\n",
       "\n",
       "\n",
       "       [[[0.],\n",
       "         [0.],\n",
       "         [0.],\n",
       "         ...,\n",
       "         [0.],\n",
       "         [0.],\n",
       "         [0.]],\n",
       "\n",
       "        [[0.],\n",
       "         [0.],\n",
       "         [0.],\n",
       "         ...,\n",
       "         [0.],\n",
       "         [0.],\n",
       "         [0.]],\n",
       "\n",
       "        [[0.],\n",
       "         [0.],\n",
       "         [0.],\n",
       "         ...,\n",
       "         [0.],\n",
       "         [0.],\n",
       "         [0.]],\n",
       "\n",
       "        ...,\n",
       "\n",
       "        [[0.],\n",
       "         [0.],\n",
       "         [0.],\n",
       "         ...,\n",
       "         [0.],\n",
       "         [0.],\n",
       "         [0.]],\n",
       "\n",
       "        [[0.],\n",
       "         [0.],\n",
       "         [0.],\n",
       "         ...,\n",
       "         [0.],\n",
       "         [0.],\n",
       "         [0.]],\n",
       "\n",
       "        [[0.],\n",
       "         [0.],\n",
       "         [0.],\n",
       "         ...,\n",
       "         [0.],\n",
       "         [0.],\n",
       "         [0.]]],\n",
       "\n",
       "\n",
       "       [[[0.],\n",
       "         [0.],\n",
       "         [0.],\n",
       "         ...,\n",
       "         [0.],\n",
       "         [0.],\n",
       "         [0.]],\n",
       "\n",
       "        [[0.],\n",
       "         [0.],\n",
       "         [0.],\n",
       "         ...,\n",
       "         [0.],\n",
       "         [0.],\n",
       "         [0.]],\n",
       "\n",
       "        [[0.],\n",
       "         [0.],\n",
       "         [0.],\n",
       "         ...,\n",
       "         [0.],\n",
       "         [0.],\n",
       "         [0.]],\n",
       "\n",
       "        ...,\n",
       "\n",
       "        [[0.],\n",
       "         [0.],\n",
       "         [0.],\n",
       "         ...,\n",
       "         [0.],\n",
       "         [0.],\n",
       "         [0.]],\n",
       "\n",
       "        [[0.],\n",
       "         [0.],\n",
       "         [0.],\n",
       "         ...,\n",
       "         [0.],\n",
       "         [0.],\n",
       "         [0.]],\n",
       "\n",
       "        [[0.],\n",
       "         [0.],\n",
       "         [0.],\n",
       "         ...,\n",
       "         [0.],\n",
       "         [0.],\n",
       "         [0.]]],\n",
       "\n",
       "\n",
       "       [[[0.],\n",
       "         [0.],\n",
       "         [0.],\n",
       "         ...,\n",
       "         [0.],\n",
       "         [0.],\n",
       "         [0.]],\n",
       "\n",
       "        [[0.],\n",
       "         [0.],\n",
       "         [0.],\n",
       "         ...,\n",
       "         [0.],\n",
       "         [0.],\n",
       "         [0.]],\n",
       "\n",
       "        [[0.],\n",
       "         [0.],\n",
       "         [0.],\n",
       "         ...,\n",
       "         [0.],\n",
       "         [0.],\n",
       "         [0.]],\n",
       "\n",
       "        ...,\n",
       "\n",
       "        [[0.],\n",
       "         [0.],\n",
       "         [0.],\n",
       "         ...,\n",
       "         [0.],\n",
       "         [0.],\n",
       "         [0.]],\n",
       "\n",
       "        [[0.],\n",
       "         [0.],\n",
       "         [0.],\n",
       "         ...,\n",
       "         [0.],\n",
       "         [0.],\n",
       "         [0.]],\n",
       "\n",
       "        [[0.],\n",
       "         [0.],\n",
       "         [0.],\n",
       "         ...,\n",
       "         [0.],\n",
       "         [0.],\n",
       "         [0.]]]])"
      ]
     },
     "execution_count": 26,
     "metadata": {},
     "output_type": "execute_result"
    }
   ],
   "source": [
    "# Data is in 0 to 1\n",
    "X_train"
   ]
  },
  {
   "cell_type": "code",
   "execution_count": 27,
   "id": "western-guide",
   "metadata": {
    "_kg_hide-output": false,
    "colab": {
     "base_uri": "https://localhost:8080/"
    },
    "execution": {
     "iopub.execute_input": "2021-06-08T18:57:50.911028Z",
     "iopub.status.busy": "2021-06-08T18:57:50.905695Z",
     "iopub.status.idle": "2021-06-08T18:57:50.923916Z",
     "shell.execute_reply": "2021-06-08T18:57:50.924333Z",
     "shell.execute_reply.started": "2021-06-04T10:21:29.63043Z"
    },
    "id": "western-guide",
    "outputId": "4f3bfafa-60f5-48ae-af06-246bec71bf4c",
    "papermill": {
     "duration": 0.065775,
     "end_time": "2021-06-08T18:57:50.924457",
     "exception": false,
     "start_time": "2021-06-08T18:57:50.858682",
     "status": "completed"
    },
    "tags": []
   },
   "outputs": [
    {
     "data": {
      "text/plain": [
       "array([[[0.        ],\n",
       "        [0.        ],\n",
       "        [0.        ],\n",
       "        [0.        ],\n",
       "        [0.        ],\n",
       "        [0.        ],\n",
       "        [0.        ],\n",
       "        [0.        ],\n",
       "        [0.        ],\n",
       "        [0.        ],\n",
       "        [0.        ],\n",
       "        [0.        ],\n",
       "        [0.        ],\n",
       "        [0.        ],\n",
       "        [0.        ],\n",
       "        [0.        ],\n",
       "        [0.        ],\n",
       "        [0.        ],\n",
       "        [0.        ],\n",
       "        [0.        ],\n",
       "        [0.        ],\n",
       "        [0.        ],\n",
       "        [0.        ],\n",
       "        [0.        ],\n",
       "        [0.        ],\n",
       "        [0.        ],\n",
       "        [0.        ],\n",
       "        [0.        ]],\n",
       "\n",
       "       [[0.        ],\n",
       "        [0.        ],\n",
       "        [0.        ],\n",
       "        [0.        ],\n",
       "        [0.        ],\n",
       "        [0.        ],\n",
       "        [0.        ],\n",
       "        [0.        ],\n",
       "        [0.        ],\n",
       "        [0.        ],\n",
       "        [0.        ],\n",
       "        [0.        ],\n",
       "        [0.        ],\n",
       "        [0.        ],\n",
       "        [0.        ],\n",
       "        [0.        ],\n",
       "        [0.        ],\n",
       "        [0.        ],\n",
       "        [0.        ],\n",
       "        [0.        ],\n",
       "        [0.        ],\n",
       "        [0.        ],\n",
       "        [0.        ],\n",
       "        [0.        ],\n",
       "        [0.        ],\n",
       "        [0.        ],\n",
       "        [0.        ],\n",
       "        [0.        ]],\n",
       "\n",
       "       [[0.        ],\n",
       "        [0.        ],\n",
       "        [0.        ],\n",
       "        [0.        ],\n",
       "        [0.        ],\n",
       "        [0.        ],\n",
       "        [0.        ],\n",
       "        [0.        ],\n",
       "        [0.        ],\n",
       "        [0.        ],\n",
       "        [0.        ],\n",
       "        [0.        ],\n",
       "        [0.        ],\n",
       "        [0.        ],\n",
       "        [0.        ],\n",
       "        [0.        ],\n",
       "        [0.        ],\n",
       "        [0.        ],\n",
       "        [0.        ],\n",
       "        [0.        ],\n",
       "        [0.        ],\n",
       "        [0.        ],\n",
       "        [0.        ],\n",
       "        [0.        ],\n",
       "        [0.        ],\n",
       "        [0.        ],\n",
       "        [0.        ],\n",
       "        [0.        ]],\n",
       "\n",
       "       [[0.        ],\n",
       "        [0.        ],\n",
       "        [0.        ],\n",
       "        [0.        ],\n",
       "        [0.        ],\n",
       "        [0.        ],\n",
       "        [0.        ],\n",
       "        [0.        ],\n",
       "        [0.        ],\n",
       "        [0.        ],\n",
       "        [0.        ],\n",
       "        [0.        ],\n",
       "        [0.00392157],\n",
       "        [0.        ],\n",
       "        [0.        ],\n",
       "        [0.05098039],\n",
       "        [0.28627451],\n",
       "        [0.        ],\n",
       "        [0.        ],\n",
       "        [0.00392157],\n",
       "        [0.01568627],\n",
       "        [0.        ],\n",
       "        [0.        ],\n",
       "        [0.        ],\n",
       "        [0.        ],\n",
       "        [0.00392157],\n",
       "        [0.00392157],\n",
       "        [0.        ]],\n",
       "\n",
       "       [[0.        ],\n",
       "        [0.        ],\n",
       "        [0.        ],\n",
       "        [0.        ],\n",
       "        [0.        ],\n",
       "        [0.        ],\n",
       "        [0.        ],\n",
       "        [0.        ],\n",
       "        [0.        ],\n",
       "        [0.        ],\n",
       "        [0.        ],\n",
       "        [0.        ],\n",
       "        [0.01176471],\n",
       "        [0.        ],\n",
       "        [0.14117647],\n",
       "        [0.53333333],\n",
       "        [0.49803922],\n",
       "        [0.24313725],\n",
       "        [0.21176471],\n",
       "        [0.        ],\n",
       "        [0.        ],\n",
       "        [0.        ],\n",
       "        [0.00392157],\n",
       "        [0.01176471],\n",
       "        [0.01568627],\n",
       "        [0.        ],\n",
       "        [0.        ],\n",
       "        [0.01176471]],\n",
       "\n",
       "       [[0.        ],\n",
       "        [0.        ],\n",
       "        [0.        ],\n",
       "        [0.        ],\n",
       "        [0.        ],\n",
       "        [0.        ],\n",
       "        [0.        ],\n",
       "        [0.        ],\n",
       "        [0.        ],\n",
       "        [0.        ],\n",
       "        [0.        ],\n",
       "        [0.        ],\n",
       "        [0.02352941],\n",
       "        [0.        ],\n",
       "        [0.4       ],\n",
       "        [0.8       ],\n",
       "        [0.69019608],\n",
       "        [0.5254902 ],\n",
       "        [0.56470588],\n",
       "        [0.48235294],\n",
       "        [0.09019608],\n",
       "        [0.        ],\n",
       "        [0.        ],\n",
       "        [0.        ],\n",
       "        [0.        ],\n",
       "        [0.04705882],\n",
       "        [0.03921569],\n",
       "        [0.        ]],\n",
       "\n",
       "       [[0.        ],\n",
       "        [0.        ],\n",
       "        [0.        ],\n",
       "        [0.        ],\n",
       "        [0.        ],\n",
       "        [0.        ],\n",
       "        [0.        ],\n",
       "        [0.        ],\n",
       "        [0.        ],\n",
       "        [0.        ],\n",
       "        [0.        ],\n",
       "        [0.        ],\n",
       "        [0.        ],\n",
       "        [0.        ],\n",
       "        [0.60784314],\n",
       "        [0.9254902 ],\n",
       "        [0.81176471],\n",
       "        [0.69803922],\n",
       "        [0.41960784],\n",
       "        [0.61176471],\n",
       "        [0.63137255],\n",
       "        [0.42745098],\n",
       "        [0.25098039],\n",
       "        [0.09019608],\n",
       "        [0.30196078],\n",
       "        [0.50980392],\n",
       "        [0.28235294],\n",
       "        [0.05882353]],\n",
       "\n",
       "       [[0.        ],\n",
       "        [0.        ],\n",
       "        [0.        ],\n",
       "        [0.        ],\n",
       "        [0.        ],\n",
       "        [0.        ],\n",
       "        [0.        ],\n",
       "        [0.        ],\n",
       "        [0.        ],\n",
       "        [0.        ],\n",
       "        [0.        ],\n",
       "        [0.00392157],\n",
       "        [0.        ],\n",
       "        [0.27058824],\n",
       "        [0.81176471],\n",
       "        [0.8745098 ],\n",
       "        [0.85490196],\n",
       "        [0.84705882],\n",
       "        [0.84705882],\n",
       "        [0.63921569],\n",
       "        [0.49803922],\n",
       "        [0.4745098 ],\n",
       "        [0.47843137],\n",
       "        [0.57254902],\n",
       "        [0.55294118],\n",
       "        [0.34509804],\n",
       "        [0.6745098 ],\n",
       "        [0.25882353]],\n",
       "\n",
       "       [[0.        ],\n",
       "        [0.        ],\n",
       "        [0.        ],\n",
       "        [0.        ],\n",
       "        [0.        ],\n",
       "        [0.        ],\n",
       "        [0.        ],\n",
       "        [0.        ],\n",
       "        [0.        ],\n",
       "        [0.00392157],\n",
       "        [0.00392157],\n",
       "        [0.00392157],\n",
       "        [0.        ],\n",
       "        [0.78431373],\n",
       "        [0.90980392],\n",
       "        [0.90980392],\n",
       "        [0.91372549],\n",
       "        [0.89803922],\n",
       "        [0.8745098 ],\n",
       "        [0.8745098 ],\n",
       "        [0.84313725],\n",
       "        [0.83529412],\n",
       "        [0.64313725],\n",
       "        [0.49803922],\n",
       "        [0.48235294],\n",
       "        [0.76862745],\n",
       "        [0.89803922],\n",
       "        [0.        ]],\n",
       "\n",
       "       [[0.        ],\n",
       "        [0.        ],\n",
       "        [0.        ],\n",
       "        [0.        ],\n",
       "        [0.        ],\n",
       "        [0.        ],\n",
       "        [0.        ],\n",
       "        [0.        ],\n",
       "        [0.        ],\n",
       "        [0.        ],\n",
       "        [0.        ],\n",
       "        [0.        ],\n",
       "        [0.        ],\n",
       "        [0.71764706],\n",
       "        [0.88235294],\n",
       "        [0.84705882],\n",
       "        [0.8745098 ],\n",
       "        [0.89411765],\n",
       "        [0.92156863],\n",
       "        [0.89019608],\n",
       "        [0.87843137],\n",
       "        [0.87058824],\n",
       "        [0.87843137],\n",
       "        [0.86666667],\n",
       "        [0.8745098 ],\n",
       "        [0.96078431],\n",
       "        [0.67843137],\n",
       "        [0.        ]],\n",
       "\n",
       "       [[0.        ],\n",
       "        [0.        ],\n",
       "        [0.        ],\n",
       "        [0.        ],\n",
       "        [0.        ],\n",
       "        [0.        ],\n",
       "        [0.        ],\n",
       "        [0.        ],\n",
       "        [0.        ],\n",
       "        [0.        ],\n",
       "        [0.        ],\n",
       "        [0.        ],\n",
       "        [0.        ],\n",
       "        [0.75686275],\n",
       "        [0.89411765],\n",
       "        [0.85490196],\n",
       "        [0.83529412],\n",
       "        [0.77647059],\n",
       "        [0.70588235],\n",
       "        [0.83137255],\n",
       "        [0.82352941],\n",
       "        [0.82745098],\n",
       "        [0.83529412],\n",
       "        [0.8745098 ],\n",
       "        [0.8627451 ],\n",
       "        [0.95294118],\n",
       "        [0.79215686],\n",
       "        [0.        ]],\n",
       "\n",
       "       [[0.        ],\n",
       "        [0.        ],\n",
       "        [0.        ],\n",
       "        [0.        ],\n",
       "        [0.        ],\n",
       "        [0.        ],\n",
       "        [0.        ],\n",
       "        [0.        ],\n",
       "        [0.        ],\n",
       "        [0.00392157],\n",
       "        [0.01176471],\n",
       "        [0.        ],\n",
       "        [0.04705882],\n",
       "        [0.85882353],\n",
       "        [0.8627451 ],\n",
       "        [0.83137255],\n",
       "        [0.85490196],\n",
       "        [0.75294118],\n",
       "        [0.6627451 ],\n",
       "        [0.89019608],\n",
       "        [0.81568627],\n",
       "        [0.85490196],\n",
       "        [0.87843137],\n",
       "        [0.83137255],\n",
       "        [0.88627451],\n",
       "        [0.77254902],\n",
       "        [0.81960784],\n",
       "        [0.20392157]],\n",
       "\n",
       "       [[0.        ],\n",
       "        [0.        ],\n",
       "        [0.        ],\n",
       "        [0.        ],\n",
       "        [0.        ],\n",
       "        [0.        ],\n",
       "        [0.        ],\n",
       "        [0.        ],\n",
       "        [0.        ],\n",
       "        [0.        ],\n",
       "        [0.02352941],\n",
       "        [0.        ],\n",
       "        [0.38823529],\n",
       "        [0.95686275],\n",
       "        [0.87058824],\n",
       "        [0.8627451 ],\n",
       "        [0.85490196],\n",
       "        [0.79607843],\n",
       "        [0.77647059],\n",
       "        [0.86666667],\n",
       "        [0.84313725],\n",
       "        [0.83529412],\n",
       "        [0.87058824],\n",
       "        [0.8627451 ],\n",
       "        [0.96078431],\n",
       "        [0.46666667],\n",
       "        [0.65490196],\n",
       "        [0.21960784]],\n",
       "\n",
       "       [[0.        ],\n",
       "        [0.        ],\n",
       "        [0.        ],\n",
       "        [0.        ],\n",
       "        [0.        ],\n",
       "        [0.        ],\n",
       "        [0.        ],\n",
       "        [0.        ],\n",
       "        [0.        ],\n",
       "        [0.01568627],\n",
       "        [0.        ],\n",
       "        [0.        ],\n",
       "        [0.21568627],\n",
       "        [0.9254902 ],\n",
       "        [0.89411765],\n",
       "        [0.90196078],\n",
       "        [0.89411765],\n",
       "        [0.94117647],\n",
       "        [0.90980392],\n",
       "        [0.83529412],\n",
       "        [0.85490196],\n",
       "        [0.8745098 ],\n",
       "        [0.91764706],\n",
       "        [0.85098039],\n",
       "        [0.85098039],\n",
       "        [0.81960784],\n",
       "        [0.36078431],\n",
       "        [0.        ]],\n",
       "\n",
       "       [[0.        ],\n",
       "        [0.        ],\n",
       "        [0.00392157],\n",
       "        [0.01568627],\n",
       "        [0.02352941],\n",
       "        [0.02745098],\n",
       "        [0.00784314],\n",
       "        [0.        ],\n",
       "        [0.        ],\n",
       "        [0.        ],\n",
       "        [0.        ],\n",
       "        [0.        ],\n",
       "        [0.92941176],\n",
       "        [0.88627451],\n",
       "        [0.85098039],\n",
       "        [0.8745098 ],\n",
       "        [0.87058824],\n",
       "        [0.85882353],\n",
       "        [0.87058824],\n",
       "        [0.86666667],\n",
       "        [0.84705882],\n",
       "        [0.8745098 ],\n",
       "        [0.89803922],\n",
       "        [0.84313725],\n",
       "        [0.85490196],\n",
       "        [1.        ],\n",
       "        [0.30196078],\n",
       "        [0.        ]],\n",
       "\n",
       "       [[0.        ],\n",
       "        [0.01176471],\n",
       "        [0.        ],\n",
       "        [0.        ],\n",
       "        [0.        ],\n",
       "        [0.        ],\n",
       "        [0.        ],\n",
       "        [0.        ],\n",
       "        [0.        ],\n",
       "        [0.24313725],\n",
       "        [0.56862745],\n",
       "        [0.8       ],\n",
       "        [0.89411765],\n",
       "        [0.81176471],\n",
       "        [0.83529412],\n",
       "        [0.86666667],\n",
       "        [0.85490196],\n",
       "        [0.81568627],\n",
       "        [0.82745098],\n",
       "        [0.85490196],\n",
       "        [0.87843137],\n",
       "        [0.8745098 ],\n",
       "        [0.85882353],\n",
       "        [0.84313725],\n",
       "        [0.87843137],\n",
       "        [0.95686275],\n",
       "        [0.62352941],\n",
       "        [0.        ]],\n",
       "\n",
       "       [[0.        ],\n",
       "        [0.        ],\n",
       "        [0.        ],\n",
       "        [0.        ],\n",
       "        [0.07058824],\n",
       "        [0.17254902],\n",
       "        [0.32156863],\n",
       "        [0.41960784],\n",
       "        [0.74117647],\n",
       "        [0.89411765],\n",
       "        [0.8627451 ],\n",
       "        [0.87058824],\n",
       "        [0.85098039],\n",
       "        [0.88627451],\n",
       "        [0.78431373],\n",
       "        [0.80392157],\n",
       "        [0.82745098],\n",
       "        [0.90196078],\n",
       "        [0.87843137],\n",
       "        [0.91764706],\n",
       "        [0.69019608],\n",
       "        [0.7372549 ],\n",
       "        [0.98039216],\n",
       "        [0.97254902],\n",
       "        [0.91372549],\n",
       "        [0.93333333],\n",
       "        [0.84313725],\n",
       "        [0.        ]],\n",
       "\n",
       "       [[0.        ],\n",
       "        [0.22352941],\n",
       "        [0.73333333],\n",
       "        [0.81568627],\n",
       "        [0.87843137],\n",
       "        [0.86666667],\n",
       "        [0.87843137],\n",
       "        [0.81568627],\n",
       "        [0.8       ],\n",
       "        [0.83921569],\n",
       "        [0.81568627],\n",
       "        [0.81960784],\n",
       "        [0.78431373],\n",
       "        [0.62352941],\n",
       "        [0.96078431],\n",
       "        [0.75686275],\n",
       "        [0.80784314],\n",
       "        [0.8745098 ],\n",
       "        [1.        ],\n",
       "        [1.        ],\n",
       "        [0.86666667],\n",
       "        [0.91764706],\n",
       "        [0.86666667],\n",
       "        [0.82745098],\n",
       "        [0.8627451 ],\n",
       "        [0.90980392],\n",
       "        [0.96470588],\n",
       "        [0.        ]],\n",
       "\n",
       "       [[0.01176471],\n",
       "        [0.79215686],\n",
       "        [0.89411765],\n",
       "        [0.87843137],\n",
       "        [0.86666667],\n",
       "        [0.82745098],\n",
       "        [0.82745098],\n",
       "        [0.83921569],\n",
       "        [0.80392157],\n",
       "        [0.80392157],\n",
       "        [0.80392157],\n",
       "        [0.8627451 ],\n",
       "        [0.94117647],\n",
       "        [0.31372549],\n",
       "        [0.58823529],\n",
       "        [1.        ],\n",
       "        [0.89803922],\n",
       "        [0.86666667],\n",
       "        [0.7372549 ],\n",
       "        [0.60392157],\n",
       "        [0.74901961],\n",
       "        [0.82352941],\n",
       "        [0.8       ],\n",
       "        [0.81960784],\n",
       "        [0.87058824],\n",
       "        [0.89411765],\n",
       "        [0.88235294],\n",
       "        [0.        ]],\n",
       "\n",
       "       [[0.38431373],\n",
       "        [0.91372549],\n",
       "        [0.77647059],\n",
       "        [0.82352941],\n",
       "        [0.87058824],\n",
       "        [0.89803922],\n",
       "        [0.89803922],\n",
       "        [0.91764706],\n",
       "        [0.97647059],\n",
       "        [0.8627451 ],\n",
       "        [0.76078431],\n",
       "        [0.84313725],\n",
       "        [0.85098039],\n",
       "        [0.94509804],\n",
       "        [0.25490196],\n",
       "        [0.28627451],\n",
       "        [0.41568627],\n",
       "        [0.45882353],\n",
       "        [0.65882353],\n",
       "        [0.85882353],\n",
       "        [0.86666667],\n",
       "        [0.84313725],\n",
       "        [0.85098039],\n",
       "        [0.8745098 ],\n",
       "        [0.8745098 ],\n",
       "        [0.87843137],\n",
       "        [0.89803922],\n",
       "        [0.11372549]],\n",
       "\n",
       "       [[0.29411765],\n",
       "        [0.8       ],\n",
       "        [0.83137255],\n",
       "        [0.8       ],\n",
       "        [0.75686275],\n",
       "        [0.80392157],\n",
       "        [0.82745098],\n",
       "        [0.88235294],\n",
       "        [0.84705882],\n",
       "        [0.7254902 ],\n",
       "        [0.77254902],\n",
       "        [0.80784314],\n",
       "        [0.77647059],\n",
       "        [0.83529412],\n",
       "        [0.94117647],\n",
       "        [0.76470588],\n",
       "        [0.89019608],\n",
       "        [0.96078431],\n",
       "        [0.9372549 ],\n",
       "        [0.8745098 ],\n",
       "        [0.85490196],\n",
       "        [0.83137255],\n",
       "        [0.81960784],\n",
       "        [0.87058824],\n",
       "        [0.8627451 ],\n",
       "        [0.86666667],\n",
       "        [0.90196078],\n",
       "        [0.2627451 ]],\n",
       "\n",
       "       [[0.18823529],\n",
       "        [0.79607843],\n",
       "        [0.71764706],\n",
       "        [0.76078431],\n",
       "        [0.83529412],\n",
       "        [0.77254902],\n",
       "        [0.7254902 ],\n",
       "        [0.74509804],\n",
       "        [0.76078431],\n",
       "        [0.75294118],\n",
       "        [0.79215686],\n",
       "        [0.83921569],\n",
       "        [0.85882353],\n",
       "        [0.86666667],\n",
       "        [0.8627451 ],\n",
       "        [0.9254902 ],\n",
       "        [0.88235294],\n",
       "        [0.84705882],\n",
       "        [0.78039216],\n",
       "        [0.80784314],\n",
       "        [0.72941176],\n",
       "        [0.70980392],\n",
       "        [0.69411765],\n",
       "        [0.6745098 ],\n",
       "        [0.70980392],\n",
       "        [0.80392157],\n",
       "        [0.80784314],\n",
       "        [0.45098039]],\n",
       "\n",
       "       [[0.        ],\n",
       "        [0.47843137],\n",
       "        [0.85882353],\n",
       "        [0.75686275],\n",
       "        [0.70196078],\n",
       "        [0.67058824],\n",
       "        [0.71764706],\n",
       "        [0.76862745],\n",
       "        [0.8       ],\n",
       "        [0.82352941],\n",
       "        [0.83529412],\n",
       "        [0.81176471],\n",
       "        [0.82745098],\n",
       "        [0.82352941],\n",
       "        [0.78431373],\n",
       "        [0.76862745],\n",
       "        [0.76078431],\n",
       "        [0.74901961],\n",
       "        [0.76470588],\n",
       "        [0.74901961],\n",
       "        [0.77647059],\n",
       "        [0.75294118],\n",
       "        [0.69019608],\n",
       "        [0.61176471],\n",
       "        [0.65490196],\n",
       "        [0.69411765],\n",
       "        [0.82352941],\n",
       "        [0.36078431]],\n",
       "\n",
       "       [[0.        ],\n",
       "        [0.        ],\n",
       "        [0.29019608],\n",
       "        [0.74117647],\n",
       "        [0.83137255],\n",
       "        [0.74901961],\n",
       "        [0.68627451],\n",
       "        [0.6745098 ],\n",
       "        [0.68627451],\n",
       "        [0.70980392],\n",
       "        [0.7254902 ],\n",
       "        [0.7372549 ],\n",
       "        [0.74117647],\n",
       "        [0.7372549 ],\n",
       "        [0.75686275],\n",
       "        [0.77647059],\n",
       "        [0.8       ],\n",
       "        [0.81960784],\n",
       "        [0.82352941],\n",
       "        [0.82352941],\n",
       "        [0.82745098],\n",
       "        [0.7372549 ],\n",
       "        [0.7372549 ],\n",
       "        [0.76078431],\n",
       "        [0.75294118],\n",
       "        [0.84705882],\n",
       "        [0.66666667],\n",
       "        [0.        ]],\n",
       "\n",
       "       [[0.00784314],\n",
       "        [0.        ],\n",
       "        [0.        ],\n",
       "        [0.        ],\n",
       "        [0.25882353],\n",
       "        [0.78431373],\n",
       "        [0.87058824],\n",
       "        [0.92941176],\n",
       "        [0.9372549 ],\n",
       "        [0.94901961],\n",
       "        [0.96470588],\n",
       "        [0.95294118],\n",
       "        [0.95686275],\n",
       "        [0.86666667],\n",
       "        [0.8627451 ],\n",
       "        [0.75686275],\n",
       "        [0.74901961],\n",
       "        [0.70196078],\n",
       "        [0.71372549],\n",
       "        [0.71372549],\n",
       "        [0.70980392],\n",
       "        [0.69019608],\n",
       "        [0.65098039],\n",
       "        [0.65882353],\n",
       "        [0.38823529],\n",
       "        [0.22745098],\n",
       "        [0.        ],\n",
       "        [0.        ]],\n",
       "\n",
       "       [[0.        ],\n",
       "        [0.        ],\n",
       "        [0.        ],\n",
       "        [0.        ],\n",
       "        [0.        ],\n",
       "        [0.        ],\n",
       "        [0.        ],\n",
       "        [0.15686275],\n",
       "        [0.23921569],\n",
       "        [0.17254902],\n",
       "        [0.28235294],\n",
       "        [0.16078431],\n",
       "        [0.1372549 ],\n",
       "        [0.        ],\n",
       "        [0.        ],\n",
       "        [0.        ],\n",
       "        [0.        ],\n",
       "        [0.        ],\n",
       "        [0.        ],\n",
       "        [0.        ],\n",
       "        [0.        ],\n",
       "        [0.        ],\n",
       "        [0.        ],\n",
       "        [0.        ],\n",
       "        [0.        ],\n",
       "        [0.        ],\n",
       "        [0.        ],\n",
       "        [0.        ]],\n",
       "\n",
       "       [[0.        ],\n",
       "        [0.        ],\n",
       "        [0.        ],\n",
       "        [0.        ],\n",
       "        [0.        ],\n",
       "        [0.        ],\n",
       "        [0.        ],\n",
       "        [0.        ],\n",
       "        [0.        ],\n",
       "        [0.        ],\n",
       "        [0.        ],\n",
       "        [0.        ],\n",
       "        [0.        ],\n",
       "        [0.        ],\n",
       "        [0.        ],\n",
       "        [0.        ],\n",
       "        [0.        ],\n",
       "        [0.        ],\n",
       "        [0.        ],\n",
       "        [0.        ],\n",
       "        [0.        ],\n",
       "        [0.        ],\n",
       "        [0.        ],\n",
       "        [0.        ],\n",
       "        [0.        ],\n",
       "        [0.        ],\n",
       "        [0.        ],\n",
       "        [0.        ]],\n",
       "\n",
       "       [[0.        ],\n",
       "        [0.        ],\n",
       "        [0.        ],\n",
       "        [0.        ],\n",
       "        [0.        ],\n",
       "        [0.        ],\n",
       "        [0.        ],\n",
       "        [0.        ],\n",
       "        [0.        ],\n",
       "        [0.        ],\n",
       "        [0.        ],\n",
       "        [0.        ],\n",
       "        [0.        ],\n",
       "        [0.        ],\n",
       "        [0.        ],\n",
       "        [0.        ],\n",
       "        [0.        ],\n",
       "        [0.        ],\n",
       "        [0.        ],\n",
       "        [0.        ],\n",
       "        [0.        ],\n",
       "        [0.        ],\n",
       "        [0.        ],\n",
       "        [0.        ],\n",
       "        [0.        ],\n",
       "        [0.        ],\n",
       "        [0.        ],\n",
       "        [0.        ]]])"
      ]
     },
     "execution_count": 27,
     "metadata": {},
     "output_type": "execute_result"
    }
   ],
   "source": [
    "X_train[0]"
   ]
  },
  {
   "cell_type": "markdown",
   "id": "deadly-album",
   "metadata": {
    "id": "deadly-album",
    "papermill": {
     "duration": 0.045171,
     "end_time": "2021-06-08T18:57:51.014724",
     "exception": false,
     "start_time": "2021-06-08T18:57:50.969553",
     "status": "completed"
    },
    "tags": []
   },
   "source": [
    "## Spliting Dataset for validation set"
   ]
  },
  {
   "cell_type": "code",
   "execution_count": 28,
   "id": "swedish-marker",
   "metadata": {
    "execution": {
     "iopub.execute_input": "2021-06-08T18:57:51.109631Z",
     "iopub.status.busy": "2021-06-08T18:57:51.109105Z",
     "iopub.status.idle": "2021-06-08T18:57:51.428136Z",
     "shell.execute_reply": "2021-06-08T18:57:51.427655Z",
     "shell.execute_reply.started": "2021-06-04T10:21:29.681299Z"
    },
    "id": "swedish-marker",
    "papermill": {
     "duration": 0.36781,
     "end_time": "2021-06-08T18:57:51.428271",
     "exception": false,
     "start_time": "2021-06-08T18:57:51.060461",
     "status": "completed"
    },
    "tags": []
   },
   "outputs": [],
   "source": [
    "from sklearn.model_selection import train_test_split\n",
    "X_train, X_val , y_train , y_val = train_test_split(X_train,y_train , test_size = 0.2 , random_state = 2020)"
   ]
  },
  {
   "cell_type": "code",
   "execution_count": 29,
   "id": "loaded-stuff",
   "metadata": {
    "colab": {
     "base_uri": "https://localhost:8080/"
    },
    "execution": {
     "iopub.execute_input": "2021-06-08T18:57:51.522880Z",
     "iopub.status.busy": "2021-06-08T18:57:51.522123Z",
     "iopub.status.idle": "2021-06-08T18:57:51.525794Z",
     "shell.execute_reply": "2021-06-08T18:57:51.525256Z",
     "shell.execute_reply.started": "2021-06-04T10:21:29.828172Z"
    },
    "id": "loaded-stuff",
    "outputId": "0e273a44-95e8-4366-b4ec-db03c12a8a59",
    "papermill": {
     "duration": 0.052315,
     "end_time": "2021-06-08T18:57:51.525914",
     "exception": false,
     "start_time": "2021-06-08T18:57:51.473599",
     "status": "completed"
    },
    "tags": []
   },
   "outputs": [
    {
     "data": {
      "text/plain": [
       "((48000, 28, 28, 1), (48000,))"
      ]
     },
     "execution_count": 29,
     "metadata": {},
     "output_type": "execute_result"
    }
   ],
   "source": [
    "X_train.shape, y_train.shape"
   ]
  },
  {
   "cell_type": "code",
   "execution_count": 30,
   "id": "circular-liability",
   "metadata": {
    "colab": {
     "base_uri": "https://localhost:8080/"
    },
    "execution": {
     "iopub.execute_input": "2021-06-08T18:57:51.620292Z",
     "iopub.status.busy": "2021-06-08T18:57:51.619557Z",
     "iopub.status.idle": "2021-06-08T18:57:51.622982Z",
     "shell.execute_reply": "2021-06-08T18:57:51.622568Z",
     "shell.execute_reply.started": "2021-06-04T10:21:29.838772Z"
    },
    "id": "circular-liability",
    "outputId": "81776f0b-67f6-4989-dffb-7bc4e4962fd1",
    "papermill": {
     "duration": 0.051963,
     "end_time": "2021-06-08T18:57:51.623086",
     "exception": false,
     "start_time": "2021-06-08T18:57:51.571123",
     "status": "completed"
    },
    "tags": []
   },
   "outputs": [
    {
     "data": {
      "text/plain": [
       "((12000, 28, 28, 1), (12000,))"
      ]
     },
     "execution_count": 30,
     "metadata": {},
     "output_type": "execute_result"
    }
   ],
   "source": [
    "X_val.shape, y_val.shape"
   ]
  },
  {
   "cell_type": "markdown",
   "id": "classified-hamilton",
   "metadata": {
    "id": "classified-hamilton",
    "papermill": {
     "duration": 0.046402,
     "end_time": "2021-06-08T18:57:51.714750",
     "exception": false,
     "start_time": "2021-06-08T18:57:51.668348",
     "status": "completed"
    },
    "tags": []
   },
   "source": [
    "# Convolutional Neural Network(CNN)\n",
    "### For the convolutional front-end, we can start with a Three convolutional layer with a small filter size and a modest number of filters (64) followed by a max pooling layer. The filter maps can then be flattened to provide features to the classifier.\n",
    "\n",
    "### Given that the problem is a multi-class classification, we know that we will require an output layer with 10 nodes in order to predict the probability distribution of an image belonging to each of the 10 classes. This will also require the use of a softmax activation function. Between the feature extractor and the output layer, we can add a dense layer to interpret the features, in this case with 128 nodes.\n",
    "\n",
    "### All layers will use the ReLU activation function and the He weight initialization scheme, both best practices."
   ]
  },
  {
   "cell_type": "markdown",
   "id": "finished-comparative",
   "metadata": {
    "id": "finished-comparative",
    "papermill": {
     "duration": 0.047562,
     "end_time": "2021-06-08T18:57:51.810322",
     "exception": false,
     "start_time": "2021-06-08T18:57:51.762760",
     "status": "completed"
    },
    "tags": []
   },
   "source": [
    "![screen-shot-2016-08-07-at-9-15-21-pm.png](https://ujwlkarn.files.wordpress.com/2016/08/screen-shot-2016-08-07-at-9-15-21-pm.png)"
   ]
  },
  {
   "cell_type": "code",
   "execution_count": 31,
   "id": "arabic-quantity",
   "metadata": {
    "execution": {
     "iopub.execute_input": "2021-06-08T18:57:51.910949Z",
     "iopub.status.busy": "2021-06-08T18:57:51.910394Z",
     "iopub.status.idle": "2021-06-08T18:57:52.234972Z",
     "shell.execute_reply": "2021-06-08T18:57:52.234156Z",
     "shell.execute_reply.started": "2021-06-04T10:21:29.847917Z"
    },
    "id": "arabic-quantity",
    "papermill": {
     "duration": 0.378818,
     "end_time": "2021-06-08T18:57:52.235102",
     "exception": false,
     "start_time": "2021-06-08T18:57:51.856284",
     "status": "completed"
    },
    "tags": []
   },
   "outputs": [],
   "source": [
    "model = keras.models.Sequential([\n",
    "                         keras.layers.Conv2D(filters = 64 , kernel_size = 3,strides = (1,1), padding = 'valid',activation = 'relu',input_shape = [28,28,1]), # 1st Layer\n",
    "                         keras.layers.MaxPooling2D(pool_size = (2,2)),\n",
    "\n",
    "                         keras.layers.Conv2D(filters = 128 , kernel_size = 3,strides = (2,2), padding = 'same',activation = 'relu',input_shape = [28,28,1]), # 2nd Layer\n",
    "                         keras.layers.MaxPooling2D(pool_size = (2,2)),\n",
    "\n",
    "                         keras.layers.Conv2D(filters = 64 , kernel_size = 3,strides = (2,2), padding = 'same',activation = 'relu',input_shape = [28,28,1]), # 3rd Layer\n",
    "                         keras.layers.MaxPooling2D(pool_size = (2,2)),\n",
    "\n",
    "                         keras.layers.Flatten(),\n",
    "                         keras.layers.Dense(units = 128,activation = 'relu'),\n",
    "                         keras.layers.Dropout(0.25),\n",
    "                         keras.layers.Dense(units = 256,activation = 'relu'),\n",
    "                         keras.layers.Dropout(0.5),\n",
    "                         keras.layers.Dense(units = 256,activation = 'relu'),\n",
    "                         keras.layers.Dropout(0.25),\n",
    "                         keras.layers.Dense(units = 128,activation = 'relu'),\n",
    "                         keras.layers.Dropout(0.10),\n",
    "                         keras.layers.Dense(units = 10,activation = 'softmax')\n",
    "\n",
    "])"
   ]
  },
  {
   "cell_type": "markdown",
   "id": "turkish-recommendation",
   "metadata": {
    "id": "turkish-recommendation",
    "papermill": {
     "duration": 0.045865,
     "end_time": "2021-06-08T18:57:52.327024",
     "exception": false,
     "start_time": "2021-06-08T18:57:52.281159",
     "status": "completed"
    },
    "tags": []
   },
   "source": [
    "# Plotting The neural Network Work flow"
   ]
  },
  {
   "cell_type": "code",
   "execution_count": 32,
   "id": "powerful-shadow",
   "metadata": {
    "colab": {
     "base_uri": "https://localhost:8080/",
     "height": 1000
    },
    "execution": {
     "iopub.execute_input": "2021-06-08T18:57:52.423205Z",
     "iopub.status.busy": "2021-06-08T18:57:52.422313Z",
     "iopub.status.idle": "2021-06-08T18:57:52.983005Z",
     "shell.execute_reply": "2021-06-08T18:57:52.983429Z",
     "shell.execute_reply.started": "2021-06-04T10:21:29.971993Z"
    },
    "id": "powerful-shadow",
    "outputId": "cf37ea7a-3bee-42c7-c2a3-4829419f5619",
    "papermill": {
     "duration": 0.610501,
     "end_time": "2021-06-08T18:57:52.983587",
     "exception": false,
     "start_time": "2021-06-08T18:57:52.373086",
     "status": "completed"
    },
    "tags": []
   },
   "outputs": [
    {
     "name": "stdout",
     "output_type": "stream",
     "text": [
      "You must install pydot (`pip install pydot`) and install graphviz (see instructions at https://graphviz.gitlab.io/download/) for plot_model to work.\n"
     ]
    }
   ],
   "source": [
    "keras.utils.plot_model(model, to_file='model_plot.png', show_shapes=True, show_layer_names=True)"
   ]
  },
  {
   "cell_type": "code",
   "execution_count": 33,
   "id": "average-duration",
   "metadata": {
    "colab": {
     "base_uri": "https://localhost:8080/"
    },
    "execution": {
     "iopub.execute_input": "2021-06-08T18:57:53.093368Z",
     "iopub.status.busy": "2021-06-08T18:57:53.085252Z",
     "iopub.status.idle": "2021-06-08T18:57:53.097902Z",
     "shell.execute_reply": "2021-06-08T18:57:53.097267Z",
     "shell.execute_reply.started": "2021-06-04T10:21:30.227852Z"
    },
    "id": "average-duration",
    "outputId": "5d77f383-6c7a-4e32-84ae-fadefdf11111",
    "papermill": {
     "duration": 0.066471,
     "end_time": "2021-06-08T18:57:53.098048",
     "exception": false,
     "start_time": "2021-06-08T18:57:53.031577",
     "status": "completed"
    },
    "tags": []
   },
   "outputs": [
    {
     "name": "stdout",
     "output_type": "stream",
     "text": [
      "Model: \"sequential\"\n",
      "_________________________________________________________________\n",
      " Layer (type)                Output Shape              Param #   \n",
      "=================================================================\n",
      " conv2d (Conv2D)             (None, 26, 26, 64)        640       \n",
      "                                                                 \n",
      " max_pooling2d (MaxPooling2  (None, 13, 13, 64)        0         \n",
      " D)                                                              \n",
      "                                                                 \n",
      " conv2d_1 (Conv2D)           (None, 7, 7, 128)         73856     \n",
      "                                                                 \n",
      " max_pooling2d_1 (MaxPoolin  (None, 3, 3, 128)         0         \n",
      " g2D)                                                            \n",
      "                                                                 \n",
      " conv2d_2 (Conv2D)           (None, 2, 2, 64)          73792     \n",
      "                                                                 \n",
      " max_pooling2d_2 (MaxPoolin  (None, 1, 1, 64)          0         \n",
      " g2D)                                                            \n",
      "                                                                 \n",
      " flatten (Flatten)           (None, 64)                0         \n",
      "                                                                 \n",
      " dense (Dense)               (None, 128)               8320      \n",
      "                                                                 \n",
      " dropout (Dropout)           (None, 128)               0         \n",
      "                                                                 \n",
      " dense_1 (Dense)             (None, 256)               33024     \n",
      "                                                                 \n",
      " dropout_1 (Dropout)         (None, 256)               0         \n",
      "                                                                 \n",
      " dense_2 (Dense)             (None, 256)               65792     \n",
      "                                                                 \n",
      " dropout_2 (Dropout)         (None, 256)               0         \n",
      "                                                                 \n",
      " dense_3 (Dense)             (None, 128)               32896     \n",
      "                                                                 \n",
      " dropout_3 (Dropout)         (None, 128)               0         \n",
      "                                                                 \n",
      " dense_4 (Dense)             (None, 10)                1290      \n",
      "                                                                 \n",
      "=================================================================\n",
      "Total params: 289610 (1.10 MB)\n",
      "Trainable params: 289610 (1.10 MB)\n",
      "Non-trainable params: 0 (0.00 Byte)\n",
      "_________________________________________________________________\n"
     ]
    }
   ],
   "source": [
    "model.summary()"
   ]
  },
  {
   "cell_type": "markdown",
   "id": "corrected-preparation",
   "metadata": {
    "id": "corrected-preparation",
    "papermill": {
     "duration": 0.049034,
     "end_time": "2021-06-08T18:57:53.196132",
     "exception": false,
     "start_time": "2021-06-08T18:57:53.147098",
     "status": "completed"
    },
    "tags": []
   },
   "source": [
    "## Compile and Model Fitting"
   ]
  },
  {
   "cell_type": "code",
   "execution_count": 34,
   "id": "blind-conviction",
   "metadata": {
    "execution": {
     "iopub.execute_input": "2021-06-08T18:57:53.300976Z",
     "iopub.status.busy": "2021-06-08T18:57:53.300273Z",
     "iopub.status.idle": "2021-06-08T18:57:53.310343Z",
     "shell.execute_reply": "2021-06-08T18:57:53.310770Z",
     "shell.execute_reply.started": "2021-06-04T10:21:30.245189Z"
    },
    "id": "blind-conviction",
    "papermill": {
     "duration": 0.066427,
     "end_time": "2021-06-08T18:57:53.310911",
     "exception": false,
     "start_time": "2021-06-08T18:57:53.244484",
     "status": "completed"
    },
    "tags": []
   },
   "outputs": [],
   "source": [
    "model.compile(optimizer = 'adam', loss = 'sparse_categorical_crossentropy',metrics = ['accuracy'])"
   ]
  },
  {
   "cell_type": "code",
   "execution_count": 35,
   "id": "dressed-fleece",
   "metadata": {
    "colab": {
     "base_uri": "https://localhost:8080/"
    },
    "execution": {
     "iopub.execute_input": "2021-06-08T18:57:53.411465Z",
     "iopub.status.busy": "2021-06-08T18:57:53.410983Z",
     "iopub.status.idle": "2021-06-08T18:59:00.223439Z",
     "shell.execute_reply": "2021-06-08T18:59:00.223026Z",
     "shell.execute_reply.started": "2021-06-04T10:21:30.262569Z"
    },
    "id": "dressed-fleece",
    "outputId": "2b31dac2-3ec4-43d7-87bf-e588d44e0d6d",
    "papermill": {
     "duration": 66.864444,
     "end_time": "2021-06-08T18:59:00.223567",
     "exception": false,
     "start_time": "2021-06-08T18:57:53.359123",
     "status": "completed"
    },
    "tags": []
   },
   "outputs": [
    {
     "name": "stdout",
     "output_type": "stream",
     "text": [
      "Epoch 1/20\n",
      "94/94 [==============================] - 41s 425ms/step - loss: 1.1874 - accuracy: 0.5276 - val_loss: 0.6067 - val_accuracy: 0.7622\n",
      "Epoch 2/20\n",
      "94/94 [==============================] - 40s 424ms/step - loss: 0.5898 - accuracy: 0.7772 - val_loss: 0.4795 - val_accuracy: 0.8212\n",
      "Epoch 3/20\n",
      "94/94 [==============================] - 40s 428ms/step - loss: 0.4823 - accuracy: 0.8235 - val_loss: 0.4099 - val_accuracy: 0.8495\n",
      "Epoch 4/20\n",
      "94/94 [==============================] - 40s 426ms/step - loss: 0.4167 - accuracy: 0.8517 - val_loss: 0.3794 - val_accuracy: 0.8583\n",
      "Epoch 5/20\n",
      "94/94 [==============================] - 40s 426ms/step - loss: 0.3687 - accuracy: 0.8701 - val_loss: 0.3677 - val_accuracy: 0.8664\n",
      "Epoch 6/20\n",
      "94/94 [==============================] - 40s 424ms/step - loss: 0.3371 - accuracy: 0.8809 - val_loss: 0.3229 - val_accuracy: 0.8826\n",
      "Epoch 7/20\n",
      "94/94 [==============================] - 43s 454ms/step - loss: 0.3198 - accuracy: 0.8859 - val_loss: 0.3204 - val_accuracy: 0.8843\n",
      "Epoch 8/20\n",
      "94/94 [==============================] - 40s 424ms/step - loss: 0.2913 - accuracy: 0.8970 - val_loss: 0.3029 - val_accuracy: 0.8902\n",
      "Epoch 9/20\n",
      "94/94 [==============================] - 40s 422ms/step - loss: 0.2778 - accuracy: 0.9013 - val_loss: 0.3021 - val_accuracy: 0.8942\n",
      "Epoch 10/20\n",
      "94/94 [==============================] - 40s 421ms/step - loss: 0.2647 - accuracy: 0.9055 - val_loss: 0.2968 - val_accuracy: 0.8972\n",
      "Epoch 11/20\n",
      "94/94 [==============================] - 40s 426ms/step - loss: 0.2475 - accuracy: 0.9121 - val_loss: 0.2834 - val_accuracy: 0.8993\n",
      "Epoch 12/20\n",
      "94/94 [==============================] - 41s 432ms/step - loss: 0.2426 - accuracy: 0.9152 - val_loss: 0.2991 - val_accuracy: 0.8989\n",
      "Epoch 13/20\n",
      "94/94 [==============================] - 40s 423ms/step - loss: 0.2276 - accuracy: 0.9179 - val_loss: 0.2737 - val_accuracy: 0.9051\n",
      "Epoch 14/20\n",
      "94/94 [==============================] - 40s 422ms/step - loss: 0.2221 - accuracy: 0.9204 - val_loss: 0.2837 - val_accuracy: 0.9007\n",
      "Epoch 15/20\n",
      "94/94 [==============================] - 40s 422ms/step - loss: 0.2129 - accuracy: 0.9236 - val_loss: 0.2872 - val_accuracy: 0.9006\n",
      "Epoch 16/20\n",
      "94/94 [==============================] - 40s 422ms/step - loss: 0.1941 - accuracy: 0.9312 - val_loss: 0.2824 - val_accuracy: 0.9071\n",
      "Epoch 17/20\n",
      "94/94 [==============================] - 40s 421ms/step - loss: 0.1872 - accuracy: 0.9331 - val_loss: 0.2870 - val_accuracy: 0.9081\n",
      "Epoch 18/20\n",
      "94/94 [==============================] - 40s 426ms/step - loss: 0.1845 - accuracy: 0.9349 - val_loss: 0.2872 - val_accuracy: 0.9068\n",
      "Epoch 19/20\n",
      "94/94 [==============================] - 40s 424ms/step - loss: 0.1724 - accuracy: 0.9384 - val_loss: 0.3129 - val_accuracy: 0.9004\n",
      "Epoch 20/20\n",
      "94/94 [==============================] - 40s 424ms/step - loss: 0.1649 - accuracy: 0.9401 - val_loss: 0.3082 - val_accuracy: 0.9026\n"
     ]
    },
    {
     "data": {
      "text/plain": [
       "<keras.src.callbacks.History at 0x1e11df01b50>"
      ]
     },
     "execution_count": 35,
     "metadata": {},
     "output_type": "execute_result"
    }
   ],
   "source": [
    "model.fit(X_train,y_train,epochs = 20,batch_size = 512,verbose = 1, validation_data=(X_val,y_val))"
   ]
  },
  {
   "cell_type": "markdown",
   "id": "passing-omaha",
   "metadata": {
    "id": "passing-omaha",
    "papermill": {
     "duration": 0.289066,
     "end_time": "2021-06-08T18:59:00.799687",
     "exception": false,
     "start_time": "2021-06-08T18:59:00.510621",
     "status": "completed"
    },
    "tags": []
   },
   "source": [
    "## Testing the Model"
   ]
  },
  {
   "cell_type": "code",
   "execution_count": 36,
   "id": "threatened-posting",
   "metadata": {
    "colab": {
     "base_uri": "https://localhost:8080/"
    },
    "execution": {
     "iopub.execute_input": "2021-06-08T18:59:01.385144Z",
     "iopub.status.busy": "2021-06-08T18:59:01.384317Z",
     "iopub.status.idle": "2021-06-08T18:59:01.535637Z",
     "shell.execute_reply": "2021-06-08T18:59:01.535181Z",
     "shell.execute_reply.started": "2021-06-04T10:22:31.55029Z"
    },
    "id": "threatened-posting",
    "outputId": "8ed4e7ab-2515-4516-fb77-30fba63c2e2f",
    "papermill": {
     "duration": 0.443147,
     "end_time": "2021-06-08T18:59:01.535766",
     "exception": false,
     "start_time": "2021-06-08T18:59:01.092619",
     "status": "completed"
    },
    "tags": []
   },
   "outputs": [
    {
     "name": "stdout",
     "output_type": "stream",
     "text": [
      "1/1 [==============================] - 0s 220ms/step\n"
     ]
    },
    {
     "data": {
      "text/plain": [
       "array([[0., 0., 0., 0., 0., 0., 0., 0., 0., 1.]], dtype=float32)"
      ]
     },
     "execution_count": 36,
     "metadata": {},
     "output_type": "execute_result"
    }
   ],
   "source": [
    "# np.expand is used to change the 3 dimension data into 4 dimension\n",
    "model.predict(np.expand_dims(X_test[0],axis=0)).round(2)"
   ]
  },
  {
   "cell_type": "code",
   "execution_count": 37,
   "id": "russian-being",
   "metadata": {
    "colab": {
     "base_uri": "https://localhost:8080/"
    },
    "execution": {
     "iopub.execute_input": "2021-06-08T18:59:02.206685Z",
     "iopub.status.busy": "2021-06-08T18:59:02.205901Z",
     "iopub.status.idle": "2021-06-08T18:59:02.262740Z",
     "shell.execute_reply": "2021-06-08T18:59:02.263344Z",
     "shell.execute_reply.started": "2021-06-04T10:22:31.655492Z"
    },
    "id": "russian-being",
    "outputId": "afc74e61-b4f5-43f3-e01d-56f05b77d7d6",
    "papermill": {
     "duration": 0.435862,
     "end_time": "2021-06-08T18:59:02.263555",
     "exception": false,
     "start_time": "2021-06-08T18:59:01.827693",
     "status": "completed"
    },
    "tags": []
   },
   "outputs": [
    {
     "name": "stdout",
     "output_type": "stream",
     "text": [
      "1/1 [==============================] - 0s 30ms/step\n"
     ]
    },
    {
     "data": {
      "text/plain": [
       "9"
      ]
     },
     "execution_count": 37,
     "metadata": {},
     "output_type": "execute_result"
    }
   ],
   "source": [
    "np.argmax(model.predict(np.expand_dims(X_test[0],axis = 0)).round(2))"
   ]
  },
  {
   "cell_type": "code",
   "execution_count": 38,
   "id": "prospective-share",
   "metadata": {
    "colab": {
     "base_uri": "https://localhost:8080/"
    },
    "execution": {
     "iopub.execute_input": "2021-06-08T18:59:03.171868Z",
     "iopub.status.busy": "2021-06-08T18:59:03.171144Z",
     "iopub.status.idle": "2021-06-08T18:59:03.173856Z",
     "shell.execute_reply": "2021-06-08T18:59:03.174250Z",
     "shell.execute_reply.started": "2021-06-04T10:22:31.699084Z"
    },
    "id": "prospective-share",
    "outputId": "6b8ecd0f-6450-4b46-f237-0dfdca4d8217",
    "papermill": {
     "duration": 0.439206,
     "end_time": "2021-06-08T18:59:03.174382",
     "exception": false,
     "start_time": "2021-06-08T18:59:02.735176",
     "status": "completed"
    },
    "tags": []
   },
   "outputs": [
    {
     "data": {
      "text/plain": [
       "9"
      ]
     },
     "execution_count": 38,
     "metadata": {},
     "output_type": "execute_result"
    }
   ],
   "source": [
    "# cross check\n",
    "y_test[0]"
   ]
  },
  {
   "cell_type": "code",
   "execution_count": 39,
   "id": "GWLzMPePvC6E",
   "metadata": {
    "colab": {
     "base_uri": "https://localhost:8080/"
    },
    "id": "GWLzMPePvC6E",
    "outputId": "ae290766-f6a3-48f3-c9b1-b8033e820559"
   },
   "outputs": [
    {
     "data": {
      "text/plain": [
       "array([9, 2, 1, ..., 8, 1, 5], dtype=uint8)"
      ]
     },
     "execution_count": 39,
     "metadata": {},
     "output_type": "execute_result"
    }
   ],
   "source": [
    "y_test"
   ]
  },
  {
   "cell_type": "code",
   "execution_count": 40,
   "id": "tight-shift",
   "metadata": {
    "colab": {
     "base_uri": "https://localhost:8080/"
    },
    "execution": {
     "iopub.execute_input": "2021-06-08T18:59:03.753459Z",
     "iopub.status.busy": "2021-06-08T18:59:03.752933Z",
     "iopub.status.idle": "2021-06-08T18:59:04.529840Z",
     "shell.execute_reply": "2021-06-08T18:59:04.529197Z",
     "shell.execute_reply.started": "2021-06-04T10:22:31.706906Z"
    },
    "id": "tight-shift",
    "outputId": "1ac9a0d6-8286-4056-bf01-42b2aaa1d392",
    "papermill": {
     "duration": 1.068338,
     "end_time": "2021-06-08T18:59:04.530084",
     "exception": false,
     "start_time": "2021-06-08T18:59:03.461746",
     "status": "completed"
    },
    "tags": []
   },
   "outputs": [
    {
     "name": "stdout",
     "output_type": "stream",
     "text": [
      "313/313 [==============================] - 4s 12ms/step\n"
     ]
    },
    {
     "data": {
      "text/plain": [
       "array([[0., 0., 0., ..., 0., 0., 1.],\n",
       "       [0., 0., 1., ..., 0., 0., 0.],\n",
       "       [0., 1., 0., ..., 0., 0., 0.],\n",
       "       ...,\n",
       "       [0., 0., 0., ..., 0., 1., 0.],\n",
       "       [0., 1., 0., ..., 0., 0., 0.],\n",
       "       [0., 0., 0., ..., 0., 0., 0.]], dtype=float32)"
      ]
     },
     "execution_count": 40,
     "metadata": {},
     "output_type": "execute_result"
    }
   ],
   "source": [
    "y_pred = model.predict(X_test).round(2)\n",
    "y_pred"
   ]
  },
  {
   "cell_type": "markdown",
   "id": "dense-delta",
   "metadata": {
    "id": "dense-delta",
    "papermill": {
     "duration": 0.291537,
     "end_time": "2021-06-08T18:59:05.116665",
     "exception": false,
     "start_time": "2021-06-08T18:59:04.825128",
     "status": "completed"
    },
    "tags": []
   },
   "source": [
    "# Evaluation"
   ]
  },
  {
   "cell_type": "code",
   "execution_count": 41,
   "id": "variable-numbers",
   "metadata": {
    "colab": {
     "base_uri": "https://localhost:8080/"
    },
    "execution": {
     "iopub.execute_input": "2021-06-08T18:59:05.754916Z",
     "iopub.status.busy": "2021-06-08T18:59:05.753550Z",
     "iopub.status.idle": "2021-06-08T18:59:06.853525Z",
     "shell.execute_reply": "2021-06-08T18:59:06.853117Z",
     "shell.execute_reply.started": "2021-06-04T10:22:32.367882Z"
    },
    "id": "variable-numbers",
    "outputId": "dd9515a1-b96d-450a-e6f3-a82b9f893d31",
    "papermill": {
     "duration": 1.432021,
     "end_time": "2021-06-08T18:59:06.853656",
     "exception": false,
     "start_time": "2021-06-08T18:59:05.421635",
     "status": "completed"
    },
    "tags": []
   },
   "outputs": [
    {
     "name": "stdout",
     "output_type": "stream",
     "text": [
      "313/313 [==============================] - 3s 8ms/step - loss: 0.2963 - accuracy: 0.9019\n"
     ]
    },
    {
     "data": {
      "text/plain": [
       "[0.2963026762008667, 0.9018999934196472]"
      ]
     },
     "execution_count": 41,
     "metadata": {},
     "output_type": "execute_result"
    }
   ],
   "source": [
    "model.evaluate(X_test,y_test)"
   ]
  },
  {
   "cell_type": "markdown",
   "id": "certified-organizer",
   "metadata": {
    "id": "certified-organizer",
    "papermill": {
     "duration": 0.294312,
     "end_time": "2021-06-08T18:59:07.445671",
     "exception": false,
     "start_time": "2021-06-08T18:59:07.151359",
     "status": "completed"
    },
    "tags": []
   },
   "source": [
    "### Accuracy given by Train set is 0.94 and Accuracy given by Test set is 0.90, Thus we can we say that our model is generalized so no overfitting nor underfitting."
   ]
  },
  {
   "cell_type": "markdown",
   "id": "metallic-peoples",
   "metadata": {
    "id": "metallic-peoples",
    "papermill": {
     "duration": 0.306134,
     "end_time": "2021-06-08T18:59:08.047846",
     "exception": false,
     "start_time": "2021-06-08T18:59:07.741712",
     "status": "completed"
    },
    "tags": []
   },
   "source": [
    "# Confusion Matrix"
   ]
  },
  {
   "cell_type": "code",
   "execution_count": 42,
   "id": "weird-immunology",
   "metadata": {
    "colab": {
     "base_uri": "https://localhost:8080/",
     "height": 733
    },
    "execution": {
     "iopub.execute_input": "2021-06-08T18:59:08.645367Z",
     "iopub.status.busy": "2021-06-08T18:59:08.644621Z",
     "iopub.status.idle": "2021-06-08T18:59:09.234335Z",
     "shell.execute_reply": "2021-06-08T18:59:09.234746Z",
     "shell.execute_reply.started": "2021-06-04T10:22:33.475239Z"
    },
    "id": "weird-immunology",
    "outputId": "6fd4f3c5-3850-49e6-b76f-3e52a04f747f",
    "papermill": {
     "duration": 0.891225,
     "end_time": "2021-06-08T18:59:09.234905",
     "exception": false,
     "start_time": "2021-06-08T18:59:08.343680",
     "status": "completed"
    },
    "tags": []
   },
   "outputs": [
    {
     "data": {
      "text/plain": [
       "<Axes: >"
      ]
     },
     "execution_count": 42,
     "metadata": {},
     "output_type": "execute_result"
    },
    {
     "data": {
      "image/png": "[encoded data removed]",
      "text/plain": [
       "<Figure size 1600x900 with 2 Axes>"
      ]
     },
     "metadata": {},
     "output_type": "display_data"
    }
   ],
   "source": [
    "from sklearn.metrics import confusion_matrix\n",
    "plt.figure(figsize = (16,9))\n",
    "y_pred_labels = [np.argmax(label) for label in y_pred]\n",
    "cm = confusion_matrix(y_test,y_pred_labels)\n",
    "sns.heatmap(cm , annot = True,fmt = 'd',xticklabels = class_labels,yticklabels = class_labels)"
   ]
  },
  {
   "cell_type": "markdown",
   "id": "trained-interstate",
   "metadata": {
    "id": "trained-interstate",
    "papermill": {
     "duration": 0.296485,
     "end_time": "2021-06-08T18:59:09.830589",
     "exception": false,
     "start_time": "2021-06-08T18:59:09.534104",
     "status": "completed"
    },
    "tags": []
   },
   "source": [
    "# Visualizing the Output"
   ]
  },
  {
   "cell_type": "code",
   "execution_count": 43,
   "id": "surrounded-redhead",
   "metadata": {
    "colab": {
     "base_uri": "https://localhost:8080/",
     "height": 1000
    },
    "execution": {
     "iopub.execute_input": "2021-06-08T18:59:10.445745Z",
     "iopub.status.busy": "2021-06-08T18:59:10.444811Z",
     "iopub.status.idle": "2021-06-08T18:59:13.136609Z",
     "shell.execute_reply": "2021-06-08T18:59:13.137044Z",
     "shell.execute_reply.started": "2021-06-04T10:22:34.063145Z"
    },
    "id": "surrounded-redhead",
    "outputId": "c1af230e-bbbc-461a-ff2b-575b5167dca5",
    "papermill": {
     "duration": 3.009021,
     "end_time": "2021-06-08T18:59:13.137190",
     "exception": false,
     "start_time": "2021-06-08T18:59:10.128169",
     "status": "completed"
    },
    "tags": []
   },
   "outputs": [
    {
     "data": {
      "image/png": "[encoded data removed]",
      "text/plain": [
       "<Figure size 1600x3000 with 60 Axes>"
      ]
     },
     "metadata": {},
     "output_type": "display_data"
    }
   ],
   "source": [
    "plt.figure(figsize=(16,30))\n",
    "j = 1\n",
    "for i in np.random.randint(0,1000,60):\n",
    "  plt.subplot(10,6,j); j+=1\n",
    "  plt.imshow(X_test[i].reshape(28,28),cmap = 'Greys')\n",
    "  plt.axis('off')\n",
    "  plt.title('Actual = {} / {} \\nPredicted = {} / {}'.format(class_labels[y_test[i]],y_test[i],class_labels[np.argmax(y_pred[i])],np.argmax(y_pred[i])))"
   ]
  },
  {
   "cell_type": "code",
   "execution_count": 44,
   "id": "recreational-sunglasses",
   "metadata": {
    "colab": {
     "base_uri": "https://localhost:8080/"
    },
    "execution": {
     "iopub.execute_input": "2021-06-08T18:59:13.746289Z",
     "iopub.status.busy": "2021-06-08T18:59:13.745561Z",
     "iopub.status.idle": "2021-06-08T18:59:13.773957Z",
     "shell.execute_reply": "2021-06-08T18:59:13.773524Z",
     "shell.execute_reply.started": "2021-06-04T10:22:37.490289Z"
    },
    "id": "recreational-sunglasses",
    "outputId": "68282eed-bf9c-4945-9780-d39450e96558",
    "papermill": {
     "duration": 0.334873,
     "end_time": "2021-06-08T18:59:13.774074",
     "exception": false,
     "start_time": "2021-06-08T18:59:13.439201",
     "status": "completed"
    },
    "tags": []
   },
   "outputs": [
    {
     "name": "stdout",
     "output_type": "stream",
     "text": [
      "              precision    recall  f1-score   support\n",
      "\n",
      " T-shirt/top       0.85      0.85      0.85      1000\n",
      "     Trouser       0.98      0.98      0.98      1000\n",
      "    Pullover       0.84      0.86      0.85      1000\n",
      "       Dress       0.89      0.92      0.90      1000\n",
      "        Coat       0.83      0.87      0.85      1000\n",
      "      Sandal       0.95      0.99      0.97      1000\n",
      "       Shirt       0.75      0.68      0.72      1000\n",
      "    Sneakers       0.96      0.95      0.95      1000\n",
      "         Bag       0.99      0.97      0.98      1000\n",
      "  Ankle boot       0.99      0.95      0.97      1000\n",
      "\n",
      "    accuracy                           0.90     10000\n",
      "   macro avg       0.90      0.90      0.90     10000\n",
      "weighted avg       0.90      0.90      0.90     10000\n",
      "\n"
     ]
    }
   ],
   "source": [
    "from sklearn.metrics import classification_report\n",
    "cr = classification_report (y_test,y_pred_labels,target_names = class_labels)\n",
    "print(cr)"
   ]
  }
 ],
 "metadata": {
  "colab": {
   "provenance": []
  },
  "kernelspec": {
   "display_name": "Python 3 (ipykernel)",
   "language": "python",
   "name": "python3"
  },
  "language_info": {
   "codemirror_mode": {
    "name": "ipython",
    "version": 3
   },
   "file_extension": ".py",
   "mimetype": "text/x-python",
   "name": "python",
   "nbconvert_exporter": "python",
   "pygments_lexer": "ipython3",
   "version": "3.11.4"
  },
  "papermill": {
   "default_parameters": {},
   "duration": 108.946612,
   "end_time": "2021-06-08T18:59:16.867576",
   "environment_variables": {},
   "exception": null,
   "input_path": "__notebook__.ipynb",
   "output_path": "__notebook__.ipynb",
   "parameters": {},
   "start_time": "2021-06-08T18:57:27.920964",
   "version": "2.3.3"
  }
 },
 "nbformat": 4,
 "nbformat_minor": 5
}
